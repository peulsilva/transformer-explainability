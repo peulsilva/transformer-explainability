{
 "cells": [
  {
   "cell_type": "code",
   "execution_count": 1,
   "metadata": {},
   "outputs": [],
   "source": [
    "%load_ext autoreload\n",
    "%autoreload 2"
   ]
  },
  {
   "cell_type": "code",
   "execution_count": 7,
   "metadata": {},
   "outputs": [],
   "source": [
    "import os\n",
    "while 'notebooks' in os.getcwd():\n",
    "    os.chdir(\"..\")\n",
    "\n",
    "import torch\n",
    "from transformers import AutoModelForImageClassification, AutoProcessor, AutoModel\n",
    "from datasets import load_dataset\n",
    "from src.attention_rollout import AttentionRollout\n",
    "from src.raw_attention import RawAttention\n",
    "from src.gradient_rollout import AttentionGradRollout\n",
    "from src.influence import Influence\n",
    "from torch.utils.data import DataLoader, RandomSampler\n",
    "from tqdm import tqdm\n",
    "\n",
    "import seaborn as sns\n",
    "import numpy as np\n",
    "import pandas as pd\n",
    "import wordcloud\n",
    "from src.text_utils import remove_stopwords, remove_punctuation, get_word_frequencies, lemmatize_text\n",
    "from copy import deepcopy\n",
    "from IPython.display import clear_output\n",
    "import matplotlib.pyplot as plt\n",
    "import scienceplots\n",
    "plt.style.use(['science', 'no-latex'])\n",
    "from src.perturbation import perturb_image"
   ]
  },
  {
   "cell_type": "code",
   "execution_count": 3,
   "metadata": {},
   "outputs": [],
   "source": [
    "device = 'cuda'"
   ]
  },
  {
   "cell_type": "markdown",
   "metadata": {},
   "source": [
    "## Raw attention scores"
   ]
  },
  {
   "cell_type": "code",
   "execution_count": 25,
   "metadata": {},
   "outputs": [],
   "source": [
    "train_dataset = load_dataset(\"zh-plus/tiny-imagenet\", cache_dir='/Data', split = 'train')\\\n",
    "    .train_test_split(test_size=1000, train_size=1000, seed=1)\n",
    "\n",
    "# test_dataset = load_dataset(\"zh-plus/tiny-imagenet\", cache_dir='/Data', split = 'test')"
   ]
  },
  {
   "cell_type": "code",
   "execution_count": 26,
   "metadata": {},
   "outputs": [],
   "source": [
    "n_classes = len(np.bincount(train_dataset['train']['label']))"
   ]
  },
  {
   "cell_type": "code",
   "execution_count": 27,
   "metadata": {},
   "outputs": [],
   "source": [
    "label_names = {\n",
    "    0 : \"World\",\n",
    "    1 : \"Sports\",\n",
    "    2 : \"Business\",\n",
    "    3 : \"Sci/Tech\"\n",
    "}"
   ]
  },
  {
   "cell_type": "code",
   "execution_count": 28,
   "metadata": {},
   "outputs": [],
   "source": [
    "model = AutoModelForImageClassification.from_pretrained(\n",
    "    \"tzhao3/vit-tiny-imagenet\", \n",
    "    attn_implementation = 'eager', \n",
    "    cache_dir = '/Data'\n",
    ")\\\n",
    "    .to(device)\n",
    "processor = AutoProcessor.from_pretrained(\"tzhao3/vit-tiny-imagenet\")\n"
   ]
  },
  {
   "cell_type": "code",
   "execution_count": 29,
   "metadata": {},
   "outputs": [],
   "source": [
    "batch_size = 1\n",
    "train_dataloader = DataLoader(train_dataset['train'], batch_size=batch_size)\n",
    "val_dataloader = DataLoader(train_dataset['test'], batch_size=batch_size)"
   ]
  },
  {
   "cell_type": "code",
   "execution_count": 30,
   "metadata": {},
   "outputs": [],
   "source": [
    "metric = RawAttention(model, attention_layer_name='attention')"
   ]
  },
  {
   "cell_type": "code",
   "execution_count": 31,
   "metadata": {},
   "outputs": [
    {
     "name": "stderr",
     "output_type": "stream",
     "text": [
      "  0%|          | 0/1000 [00:00<?, ?it/s]"
     ]
    },
    {
     "name": "stderr",
     "output_type": "stream",
     "text": [
      "/users/eleves-a/2022/pedro.silva/.local/lib/python3.11/site-packages/transformers/image_processing_utils.py:42: UserWarning: The following named arguments are not valid for `ViTImageProcessor.preprocess` and were ignored: 'padding'\n",
      "  return self.preprocess(images, **kwargs)\n",
      "100%|██████████| 1000/1000 [00:14<00:00, 67.46it/s]\n"
     ]
    },
    {
     "name": "stdout",
     "output_type": "stream",
     "text": [
      "Removed 0.0 best tokens. Accuracy = 0.9622833728790283\n"
     ]
    },
    {
     "name": "stderr",
     "output_type": "stream",
     "text": [
      "100%|██████████| 1000/1000 [00:15<00:00, 62.99it/s]\n"
     ]
    },
    {
     "name": "stdout",
     "output_type": "stream",
     "text": [
      "Removed 0.1 best tokens. Accuracy = 0.9520897269248962\n"
     ]
    },
    {
     "name": "stderr",
     "output_type": "stream",
     "text": [
      "100%|██████████| 1000/1000 [00:16<00:00, 59.54it/s]\n"
     ]
    },
    {
     "name": "stdout",
     "output_type": "stream",
     "text": [
      "Removed 0.2 best tokens. Accuracy = 0.9357798099517822\n"
     ]
    },
    {
     "name": "stderr",
     "output_type": "stream",
     "text": [
      "100%|██████████| 1000/1000 [00:17<00:00, 56.57it/s]\n"
     ]
    },
    {
     "name": "stdout",
     "output_type": "stream",
     "text": [
      "Removed 0.30000000000000004 best tokens. Accuracy = 0.9306829571723938\n"
     ]
    },
    {
     "name": "stderr",
     "output_type": "stream",
     "text": [
      "100%|██████████| 1000/1000 [00:18<00:00, 53.61it/s]\n"
     ]
    },
    {
     "name": "stdout",
     "output_type": "stream",
     "text": [
      "Removed 0.4 best tokens. Accuracy = 0.8990825414657593\n"
     ]
    },
    {
     "name": "stderr",
     "output_type": "stream",
     "text": [
      "100%|██████████| 1000/1000 [00:19<00:00, 50.98it/s]\n"
     ]
    },
    {
     "name": "stdout",
     "output_type": "stream",
     "text": [
      "Removed 0.5 best tokens. Accuracy = 0.8440366983413696\n"
     ]
    },
    {
     "name": "stderr",
     "output_type": "stream",
     "text": [
      "100%|██████████| 1000/1000 [00:20<00:00, 48.81it/s]\n"
     ]
    },
    {
     "name": "stdout",
     "output_type": "stream",
     "text": [
      "Removed 0.6000000000000001 best tokens. Accuracy = 0.7512742280960083\n"
     ]
    },
    {
     "name": "stderr",
     "output_type": "stream",
     "text": [
      "100%|██████████| 1000/1000 [00:21<00:00, 47.21it/s]\n"
     ]
    },
    {
     "name": "stdout",
     "output_type": "stream",
     "text": [
      "Removed 0.7000000000000001 best tokens. Accuracy = 0.6034658551216125\n"
     ]
    },
    {
     "name": "stderr",
     "output_type": "stream",
     "text": [
      "100%|██████████| 1000/1000 [00:22<00:00, 45.36it/s]\n"
     ]
    },
    {
     "name": "stdout",
     "output_type": "stream",
     "text": [
      "Removed 0.8 best tokens. Accuracy = 0.4016309976577759\n"
     ]
    },
    {
     "name": "stderr",
     "output_type": "stream",
     "text": [
      "100%|██████████| 1000/1000 [00:22<00:00, 43.54it/s]"
     ]
    },
    {
     "name": "stdout",
     "output_type": "stream",
     "text": [
      "Removed 0.9 best tokens. Accuracy = 0.18654434382915497\n"
     ]
    },
    {
     "name": "stderr",
     "output_type": "stream",
     "text": [
      "\n"
     ]
    }
   ],
   "source": [
    "\n",
    "accs = {}\n",
    "\n",
    "ks = np.arange(0, 1., 0.1)\n",
    "\n",
    "for k in ks:\n",
    "    y_pred_test = torch.Tensor([])\n",
    "    y_true_test = torch.Tensor([])\n",
    "    for row in tqdm(train_dataset['train']):\n",
    "        try:\n",
    "            tokens = processor(\n",
    "                row['image'], \n",
    "                return_tensors='pt',\n",
    "                padding = 'longest'\n",
    "            )\n",
    "        except:\n",
    "            continue\n",
    "        out, attn_matrix = metric(layer_idx= 0, **tokens.to(device))\n",
    "\n",
    "        new_input = perturb_image(tokens['pixel_values'], attn_matrix.squeeze(), k, processor)\n",
    "        # print(new_input['input_ids'].shape)\n",
    "        tokens['pixel_values'] = new_input\n",
    "\n",
    "        with torch.no_grad():\n",
    "            out = model(**tokens.to(device))\n",
    "\n",
    "        y_pred = out.logits.topk(k = 5).indices\n",
    "        correct = torch.Tensor([int(row['label'] in y_pred)])\n",
    "\n",
    "        y_pred_test = torch.concat([y_pred_test, correct])\n",
    "\n",
    "\n",
    "    accs[k] = y_pred_test.mean().item()\n",
    "\n",
    "    print(f\"Removed {k} best tokens. Accuracy = {accs[k]}\")"
   ]
  },
  {
   "cell_type": "code",
   "execution_count": 32,
   "metadata": {},
   "outputs": [],
   "source": [
    "pd.Series(accs)\\\n",
    "    .to_pickle(\"data/results/vit_raw_attention0_perturbation_positive.pkl\")"
   ]
  },
  {
   "cell_type": "markdown",
   "metadata": {},
   "source": [
    "# Attention Rollout"
   ]
  },
  {
   "cell_type": "code",
   "execution_count": 34,
   "metadata": {},
   "outputs": [],
   "source": [
    "metric = AttentionRollout(model, attention_layer_name='attention')"
   ]
  },
  {
   "cell_type": "code",
   "execution_count": 35,
   "metadata": {},
   "outputs": [
    {
     "name": "stderr",
     "output_type": "stream",
     "text": [
      "  0%|          | 0/1000 [00:00<?, ?it/s]"
     ]
    },
    {
     "name": "stderr",
     "output_type": "stream",
     "text": [
      "100%|██████████| 1000/1000 [01:06<00:00, 14.93it/s]\n"
     ]
    },
    {
     "name": "stdout",
     "output_type": "stream",
     "text": [
      "Removed 0.0 best tokens. Accuracy = 0.9622833728790283\n"
     ]
    },
    {
     "name": "stderr",
     "output_type": "stream",
     "text": [
      "100%|██████████| 1000/1000 [01:08<00:00, 14.67it/s]\n"
     ]
    },
    {
     "name": "stdout",
     "output_type": "stream",
     "text": [
      "Removed 0.1 best tokens. Accuracy = 0.9582059383392334\n"
     ]
    },
    {
     "name": "stderr",
     "output_type": "stream",
     "text": [
      "100%|██████████| 1000/1000 [01:08<00:00, 14.56it/s]\n"
     ]
    },
    {
     "name": "stdout",
     "output_type": "stream",
     "text": [
      "Removed 0.2 best tokens. Accuracy = 0.9378185272216797\n"
     ]
    },
    {
     "name": "stderr",
     "output_type": "stream",
     "text": [
      "100%|██████████| 1000/1000 [01:09<00:00, 14.43it/s]\n"
     ]
    },
    {
     "name": "stdout",
     "output_type": "stream",
     "text": [
      "Removed 0.30000000000000004 best tokens. Accuracy = 0.9153924584388733\n"
     ]
    },
    {
     "name": "stderr",
     "output_type": "stream",
     "text": [
      "100%|██████████| 1000/1000 [01:10<00:00, 14.15it/s]\n"
     ]
    },
    {
     "name": "stdout",
     "output_type": "stream",
     "text": [
      "Removed 0.4 best tokens. Accuracy = 0.8776758313179016\n"
     ]
    },
    {
     "name": "stderr",
     "output_type": "stream",
     "text": [
      "100%|██████████| 1000/1000 [01:11<00:00, 14.06it/s]\n"
     ]
    },
    {
     "name": "stdout",
     "output_type": "stream",
     "text": [
      "Removed 0.5 best tokens. Accuracy = 0.8205912113189697\n"
     ]
    },
    {
     "name": "stderr",
     "output_type": "stream",
     "text": [
      "100%|██████████| 1000/1000 [01:11<00:00, 13.94it/s]\n"
     ]
    },
    {
     "name": "stdout",
     "output_type": "stream",
     "text": [
      "Removed 0.6000000000000001 best tokens. Accuracy = 0.7217125296592712\n"
     ]
    },
    {
     "name": "stderr",
     "output_type": "stream",
     "text": [
      "100%|██████████| 1000/1000 [01:12<00:00, 13.76it/s]\n"
     ]
    },
    {
     "name": "stdout",
     "output_type": "stream",
     "text": [
      "Removed 0.7000000000000001 best tokens. Accuracy = 0.5677879452705383\n"
     ]
    },
    {
     "name": "stderr",
     "output_type": "stream",
     "text": [
      "100%|██████████| 1000/1000 [01:13<00:00, 13.53it/s]\n"
     ]
    },
    {
     "name": "stdout",
     "output_type": "stream",
     "text": [
      "Removed 0.8 best tokens. Accuracy = 0.3955147862434387\n"
     ]
    },
    {
     "name": "stderr",
     "output_type": "stream",
     "text": [
      "100%|██████████| 1000/1000 [01:15<00:00, 13.31it/s]"
     ]
    },
    {
     "name": "stdout",
     "output_type": "stream",
     "text": [
      "Removed 0.9 best tokens. Accuracy = 0.15392456948757172\n"
     ]
    },
    {
     "name": "stderr",
     "output_type": "stream",
     "text": [
      "\n"
     ]
    }
   ],
   "source": [
    "\n",
    "accs = {}\n",
    "\n",
    "ks = np.arange(0, 1., 0.1)\n",
    "\n",
    "for k in ks:\n",
    "    y_pred_test = torch.Tensor([])\n",
    "    y_true_test = torch.Tensor([])\n",
    "    for row in tqdm(train_dataset['train']):\n",
    "        try:\n",
    "            tokens = processor(\n",
    "                row['image'], \n",
    "                return_tensors='pt',\n",
    "                padding = 'longest'\n",
    "            )\n",
    "        except:\n",
    "            continue\n",
    "        out, attn_matrix = metric(**tokens.to(device))\n",
    "\n",
    "        new_input = perturb_image(tokens['pixel_values'], attn_matrix.squeeze(), k, processor)\n",
    "        # print(new_input['input_ids'].shape)\n",
    "        tokens['pixel_values'] = new_input\n",
    "\n",
    "        with torch.no_grad():\n",
    "            out = model(**tokens.to(device))\n",
    "\n",
    "        y_pred = out.logits.topk(k = 5).indices\n",
    "        correct = torch.Tensor([int(row['label'] in y_pred)])\n",
    "\n",
    "        y_pred_test = torch.concat([y_pred_test, correct])\n",
    "\n",
    "\n",
    "    accs[k] = y_pred_test.mean().item()\n",
    "\n",
    "    print(f\"Removed {k} best tokens. Accuracy = {accs[k]}\")"
   ]
  },
  {
   "cell_type": "code",
   "execution_count": 36,
   "metadata": {},
   "outputs": [],
   "source": [
    "pd.Series(accs)\\\n",
    "    .to_pickle(\"data/results/vit_attn_rollout_perturbation_positive.pkl\")"
   ]
  },
  {
   "cell_type": "markdown",
   "metadata": {},
   "source": [
    "## Gradient attention rollout"
   ]
  },
  {
   "cell_type": "code",
   "execution_count": null,
   "metadata": {},
   "outputs": [],
   "source": []
  },
  {
   "cell_type": "code",
   "execution_count": 37,
   "metadata": {},
   "outputs": [],
   "source": [
    "metric = AttentionGradRollout(model, attention_layer_name='attention.dropout')"
   ]
  },
  {
   "cell_type": "code",
   "execution_count": 38,
   "metadata": {},
   "outputs": [
    {
     "data": {
      "text/plain": [
       "torch.Size([1, 197, 197])"
      ]
     },
     "execution_count": 38,
     "metadata": {},
     "output_type": "execute_result"
    }
   ],
   "source": [
    "attn_matrix.shape"
   ]
  },
  {
   "cell_type": "code",
   "execution_count": 39,
   "metadata": {},
   "outputs": [
    {
     "name": "stderr",
     "output_type": "stream",
     "text": [
      "  0%|          | 0/1000 [00:00<?, ?it/s]"
     ]
    },
    {
     "name": "stderr",
     "output_type": "stream",
     "text": [
      "/users/eleves-a/2022/pedro.silva/.local/lib/python3.11/site-packages/transformers/image_processing_utils.py:42: UserWarning: The following named arguments are not valid for `ViTImageProcessor.preprocess` and were ignored: 'padding'\n",
      "  return self.preprocess(images, **kwargs)\n",
      "/users/eleves-a/2022/pedro.silva/.local/lib/python3.11/site-packages/torch/nn/modules/module.py:1827: FutureWarning: Using a non-full backward hook when the forward contains multiple autograd Nodes is deprecated and will be removed in future versions. This hook will be missing some grad_input. Please use register_full_backward_hook to get the documented behavior.\n",
      "  self._maybe_warn_non_full_backward_hook(args, result, grad_fn)\n",
      "100%|██████████| 1000/1000 [00:58<00:00, 17.02it/s]\n"
     ]
    },
    {
     "name": "stdout",
     "output_type": "stream",
     "text": [
      "Removed 0.0 best tokens. Accuracy = 0.9622833728790283\n"
     ]
    },
    {
     "name": "stderr",
     "output_type": "stream",
     "text": [
      "100%|██████████| 1000/1000 [01:00<00:00, 16.65it/s]\n"
     ]
    },
    {
     "name": "stdout",
     "output_type": "stream",
     "text": [
      "Removed 0.1 best tokens. Accuracy = 0.9449541568756104\n"
     ]
    },
    {
     "name": "stderr",
     "output_type": "stream",
     "text": [
      "100%|██████████| 1000/1000 [01:00<00:00, 16.45it/s]\n"
     ]
    },
    {
     "name": "stdout",
     "output_type": "stream",
     "text": [
      "Removed 0.2 best tokens. Accuracy = 0.9235473871231079\n"
     ]
    },
    {
     "name": "stderr",
     "output_type": "stream",
     "text": [
      "100%|██████████| 1000/1000 [01:01<00:00, 16.37it/s]\n"
     ]
    },
    {
     "name": "stdout",
     "output_type": "stream",
     "text": [
      "Removed 0.30000000000000004 best tokens. Accuracy = 0.8858307600021362\n"
     ]
    },
    {
     "name": "stderr",
     "output_type": "stream",
     "text": [
      "100%|██████████| 1000/1000 [01:02<00:00, 15.95it/s]\n"
     ]
    },
    {
     "name": "stdout",
     "output_type": "stream",
     "text": [
      "Removed 0.4 best tokens. Accuracy = 0.8338429927825928\n"
     ]
    },
    {
     "name": "stderr",
     "output_type": "stream",
     "text": [
      "100%|██████████| 1000/1000 [01:04<00:00, 15.62it/s]\n"
     ]
    },
    {
     "name": "stdout",
     "output_type": "stream",
     "text": [
      "Removed 0.5 best tokens. Accuracy = 0.7706422209739685\n"
     ]
    },
    {
     "name": "stderr",
     "output_type": "stream",
     "text": [
      "100%|██████████| 1000/1000 [01:04<00:00, 15.40it/s]\n"
     ]
    },
    {
     "name": "stdout",
     "output_type": "stream",
     "text": [
      "Removed 0.6000000000000001 best tokens. Accuracy = 0.6941896080970764\n"
     ]
    },
    {
     "name": "stderr",
     "output_type": "stream",
     "text": [
      "100%|██████████| 1000/1000 [01:05<00:00, 15.16it/s]\n"
     ]
    },
    {
     "name": "stdout",
     "output_type": "stream",
     "text": [
      "Removed 0.7000000000000001 best tokens. Accuracy = 0.5392456650733948\n"
     ]
    },
    {
     "name": "stderr",
     "output_type": "stream",
     "text": [
      "100%|██████████| 1000/1000 [01:06<00:00, 15.03it/s]\n"
     ]
    },
    {
     "name": "stdout",
     "output_type": "stream",
     "text": [
      "Removed 0.8 best tokens. Accuracy = 0.35881754755973816\n"
     ]
    },
    {
     "name": "stderr",
     "output_type": "stream",
     "text": [
      "100%|██████████| 1000/1000 [01:07<00:00, 14.83it/s]"
     ]
    },
    {
     "name": "stdout",
     "output_type": "stream",
     "text": [
      "Removed 0.9 best tokens. Accuracy = 0.1763506680727005\n"
     ]
    },
    {
     "name": "stderr",
     "output_type": "stream",
     "text": [
      "\n"
     ]
    }
   ],
   "source": [
    "\n",
    "accs = {}\n",
    "\n",
    "ks = np.arange(0, 1., 0.1)\n",
    "\n",
    "for k in ks:\n",
    "    y_pred_test = torch.Tensor([])\n",
    "    y_true_test = torch.Tensor([])\n",
    "    for row in tqdm(train_dataset['train']):\n",
    "        try:\n",
    "            tokens = processor(\n",
    "                row['image'], \n",
    "                return_tensors='pt',\n",
    "                padding = 'longest'\n",
    "            )\n",
    "            tokens['labels'] = torch.tensor(row['label'])\n",
    "        except:\n",
    "            continue\n",
    "        out, attn_matrix = metric(**tokens.to(device))\n",
    "\n",
    "        new_input = perturb_image(tokens['pixel_values'], attn_matrix.squeeze(), k, processor)\n",
    "        # print(new_input['input_ids'].shape)\n",
    "        tokens['pixel_values'] = new_input\n",
    "\n",
    "        with torch.no_grad():\n",
    "            out = model(**tokens.to(device))\n",
    "\n",
    "        y_pred = out.logits.topk(k = 5).indices\n",
    "        correct = torch.Tensor([int(row['label'] in y_pred)])\n",
    "\n",
    "        y_pred_test = torch.concat([y_pred_test, correct])\n",
    "\n",
    "\n",
    "    accs[k] = y_pred_test.mean().item()\n",
    "\n",
    "    print(f\"Removed {k} best tokens. Accuracy = {accs[k]}\")"
   ]
  },
  {
   "cell_type": "code",
   "execution_count": 40,
   "metadata": {},
   "outputs": [],
   "source": [
    "pd.Series(accs)\\\n",
    "    .to_pickle(\"data/results/vit_grad_rollout_perturbation_positive.pkl\")"
   ]
  },
  {
   "cell_type": "markdown",
   "metadata": {},
   "source": [
    "## Influence "
   ]
  },
  {
   "cell_type": "code",
   "execution_count": 41,
   "metadata": {},
   "outputs": [],
   "source": [
    "metric = Influence(model, discard_ratio=0.9, is_vit=True, return_mask=False)"
   ]
  },
  {
   "cell_type": "code",
   "execution_count": 42,
   "metadata": {},
   "outputs": [
    {
     "data": {
      "text/plain": [
       "torch.Size([1, 197, 197])"
      ]
     },
     "execution_count": 42,
     "metadata": {},
     "output_type": "execute_result"
    }
   ],
   "source": [
    "attn_matrix.shape"
   ]
  },
  {
   "cell_type": "code",
   "execution_count": 43,
   "metadata": {},
   "outputs": [
    {
     "name": "stderr",
     "output_type": "stream",
     "text": [
      "  0%|          | 0/1000 [00:00<?, ?it/s]"
     ]
    },
    {
     "name": "stderr",
     "output_type": "stream",
     "text": [
      "/users/eleves-a/2022/pedro.silva/.local/lib/python3.11/site-packages/transformers/image_processing_utils.py:42: UserWarning: The following named arguments are not valid for `ViTImageProcessor.preprocess` and were ignored: 'padding'\n",
      "  return self.preprocess(images, **kwargs)\n",
      "100%|██████████| 1000/1000 [00:45<00:00, 21.97it/s]\n"
     ]
    },
    {
     "name": "stdout",
     "output_type": "stream",
     "text": [
      "Removed 0.0 best tokens. Accuracy = 0.9622833728790283\n"
     ]
    },
    {
     "name": "stderr",
     "output_type": "stream",
     "text": [
      "100%|██████████| 1000/1000 [00:46<00:00, 21.41it/s]\n"
     ]
    },
    {
     "name": "stdout",
     "output_type": "stream",
     "text": [
      "Removed 0.1 best tokens. Accuracy = 0.9429153800010681\n"
     ]
    },
    {
     "name": "stderr",
     "output_type": "stream",
     "text": [
      "100%|██████████| 1000/1000 [00:47<00:00, 20.86it/s]\n"
     ]
    },
    {
     "name": "stdout",
     "output_type": "stream",
     "text": [
      "Removed 0.2 best tokens. Accuracy = 0.916411817073822\n"
     ]
    },
    {
     "name": "stderr",
     "output_type": "stream",
     "text": [
      "100%|██████████| 1000/1000 [00:48<00:00, 20.45it/s]\n"
     ]
    },
    {
     "name": "stdout",
     "output_type": "stream",
     "text": [
      "Removed 0.30000000000000004 best tokens. Accuracy = 0.8848114013671875\n"
     ]
    },
    {
     "name": "stderr",
     "output_type": "stream",
     "text": [
      "100%|██████████| 1000/1000 [00:50<00:00, 19.72it/s]\n"
     ]
    },
    {
     "name": "stdout",
     "output_type": "stream",
     "text": [
      "Removed 0.4 best tokens. Accuracy = 0.8521916270256042\n"
     ]
    },
    {
     "name": "stderr",
     "output_type": "stream",
     "text": [
      "100%|██████████| 1000/1000 [00:50<00:00, 19.92it/s]\n"
     ]
    },
    {
     "name": "stdout",
     "output_type": "stream",
     "text": [
      "Removed 0.5 best tokens. Accuracy = 0.7818552255630493\n"
     ]
    },
    {
     "name": "stderr",
     "output_type": "stream",
     "text": [
      "100%|██████████| 1000/1000 [00:53<00:00, 18.83it/s]\n"
     ]
    },
    {
     "name": "stdout",
     "output_type": "stream",
     "text": [
      "Removed 0.6000000000000001 best tokens. Accuracy = 0.6839959025382996\n"
     ]
    },
    {
     "name": "stderr",
     "output_type": "stream",
     "text": [
      "100%|██████████| 1000/1000 [00:52<00:00, 18.93it/s]\n"
     ]
    },
    {
     "name": "stdout",
     "output_type": "stream",
     "text": [
      "Removed 0.7000000000000001 best tokens. Accuracy = 0.5474005937576294\n"
     ]
    },
    {
     "name": "stderr",
     "output_type": "stream",
     "text": [
      "100%|██████████| 1000/1000 [00:52<00:00, 18.92it/s]\n"
     ]
    },
    {
     "name": "stdout",
     "output_type": "stream",
     "text": [
      "Removed 0.8 best tokens. Accuracy = 0.3802242577075958\n"
     ]
    },
    {
     "name": "stderr",
     "output_type": "stream",
     "text": [
      "100%|██████████| 1000/1000 [00:54<00:00, 18.37it/s]"
     ]
    },
    {
     "name": "stdout",
     "output_type": "stream",
     "text": [
      "Removed 0.9 best tokens. Accuracy = 0.17023445665836334\n"
     ]
    },
    {
     "name": "stderr",
     "output_type": "stream",
     "text": [
      "\n"
     ]
    }
   ],
   "source": [
    "\n",
    "accs = {}\n",
    "\n",
    "ks = np.arange(0, 1., 0.1)\n",
    "\n",
    "for k in ks:\n",
    "    y_pred_test = torch.Tensor([])\n",
    "    y_true_test = torch.Tensor([])\n",
    "    for row in tqdm(train_dataset['train']):\n",
    "        try:\n",
    "            tokens = processor(\n",
    "                row['image'], \n",
    "                return_tensors='pt',\n",
    "                padding = 'longest'\n",
    "            )\n",
    "        except:\n",
    "            continue\n",
    "\n",
    "        attn_matrix = metric(**tokens.to(device))\n",
    "\n",
    "        new_input = perturb_image(tokens['pixel_values'], attn_matrix.squeeze(), k, processor)\n",
    "        # print(new_input['input_ids'].shape)\n",
    "        tokens['pixel_values'] = new_input\n",
    "\n",
    "        with torch.no_grad():\n",
    "            out = model(**tokens.to(device))\n",
    "\n",
    "        y_pred = out.logits.topk(k = 5).indices\n",
    "        correct = torch.Tensor([int(row['label'] in y_pred)])\n",
    "\n",
    "        y_pred_test = torch.concat([y_pred_test, correct])\n",
    "\n",
    "\n",
    "    accs[k] = y_pred_test.mean().item()\n",
    "\n",
    "    print(f\"Removed {k} best tokens. Accuracy = {accs[k]}\")"
   ]
  },
  {
   "cell_type": "code",
   "execution_count": 44,
   "metadata": {},
   "outputs": [],
   "source": [
    "pd.Series(accs)\\\n",
    "    .to_pickle(\"data/results/vit_influence_perturbation_positive.pkl\")"
   ]
  },
  {
   "cell_type": "markdown",
   "metadata": {},
   "source": [
    "## Final plot"
   ]
  },
  {
   "cell_type": "code",
   "execution_count": 45,
   "metadata": {},
   "outputs": [
    {
     "name": "stdout",
     "output_type": "stream",
     "text": [
      "raw_attention0 - AUC = 0.689245667308569\n",
      "attn_rollout - AUC = 0.6752803198993206\n",
      "influence - AUC = 0.6556065119802953\n",
      "grad_rollout - AUC = 0.652038735896349\n"
     ]
    },
    {
     "data": {
      "image/png": "[encoded data removed]",
      "text/plain": [
       "<Figure size 600x400 with 1 Axes>"
      ]
     },
     "metadata": {},
     "output_type": "display_data"
    }
   ],
   "source": [
    "metrics = ['raw_attention0', 'attn_rollout','influence', 'grad_rollout', ]\n",
    "\n",
    "plt.figure(figsize=(6,4))\n",
    "for metric in metrics:\n",
    "    x = pd.read_pickle(f\"data/results/vit_{metric}_perturbation_positive.pkl\")\n",
    "    auc = np.trapz(x.values, x.index)\n",
    "\n",
    "    print(f\"{metric} - AUC = {auc}\")\n",
    "    plt.plot(x, label = metric, linewidth = 3)\n",
    "\n",
    "plt.grid()\n",
    "plt.title(\"Positive perturbation study\", fontsize = 18)\n",
    "plt.ylabel(\"Accuracy\", fontsize = 16)\n",
    "plt.xlabel(\"# of removed tokens\", fontsize = 16)\n",
    "plt.legend(fontsize = 18)\n",
    "plt.tight_layout()"
   ]
  }
 ],
 "metadata": {
  "kernelspec": {
   "display_name": "base",
   "language": "python",
   "name": "python3"
  },
  "language_info": {
   "codemirror_mode": {
    "name": "ipython",
    "version": 3
   },
   "file_extension": ".py",
   "mimetype": "text/x-python",
   "name": "python",
   "nbconvert_exporter": "python",
   "pygments_lexer": "ipython3",
   "version": "3.11.3"
  }
 },
 "nbformat": 4,
 "nbformat_minor": 2
}
