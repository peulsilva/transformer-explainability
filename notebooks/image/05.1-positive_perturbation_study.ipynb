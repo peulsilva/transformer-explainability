{
 "cells": [
  {
   "cell_type": "code",
   "execution_count": 1,
   "metadata": {},
   "outputs": [],
   "source": [
    "%load_ext autoreload\n",
    "%autoreload 2"
   ]
  },
  {
   "cell_type": "code",
   "execution_count": 3,
   "metadata": {},
   "outputs": [],
   "source": [
    "import os\n",
    "while 'notebooks' in os.getcwd():\n",
    "    os.chdir(\"..\")\n",
    "\n",
    "import torch\n",
    "from transformers import AutoModelForImageClassification, AutoProcessor, AutoModel\n",
    "from datasets import load_dataset\n",
    "from src.attention_rollout import AttentionRollout\n",
    "from src.gradient_rollout import AttentionGradRollout\n",
    "from src.influence import Influence\n",
    "from torch.utils.data import DataLoader, RandomSampler\n",
    "from tqdm import tqdm\n",
    "\n",
    "import seaborn as sns\n",
    "import numpy as np\n",
    "import pandas as pd\n",
    "import wordcloud\n",
    "from src.text_utils import remove_stopwords, remove_punctuation, get_word_frequencies, lemmatize_text\n",
    "from copy import deepcopy\n",
    "from IPython.display import clear_output\n",
    "import matplotlib.pyplot as plt\n",
    "import scienceplots\n",
    "plt.style.use(['science', 'no-latex'])\n",
    "from src.perturbation import perturb_image"
   ]
  },
  {
   "cell_type": "code",
   "execution_count": 4,
   "metadata": {},
   "outputs": [],
   "source": [
    "device = 'cuda'"
   ]
  },
  {
   "cell_type": "markdown",
   "metadata": {},
   "source": [
    "# Attention Rollout"
   ]
  },
  {
   "cell_type": "markdown",
   "metadata": {},
   "source": [
    "## ImageNet"
   ]
  },
  {
   "cell_type": "code",
   "execution_count": 45,
   "metadata": {},
   "outputs": [
    {
     "name": "stderr",
     "output_type": "stream",
     "text": [
      "Using the latest cached version of the dataset since zh-plus/tiny-imagenet couldn't be found on the Hugging Face Hub\n",
      "Found the latest cached dataset configuration 'default' at /Data/zh-plus___tiny-imagenet/default/0.0.0/5a77092c28e51558c5586e9c5eb71a7e17a5e43f (last modified on Mon Feb 10 10:12:05 2025).\n"
     ]
    }
   ],
   "source": [
    "train_dataset = load_dataset(\"zh-plus/tiny-imagenet\", cache_dir='/Data', split = 'train')\\\n",
    "    .train_test_split(test_size=1000, train_size=200, seed=1)\n",
    "\n",
    "# test_dataset = load_dataset(\"zh-plus/tiny-imagenet\", cache_dir='/Data', split = 'test')"
   ]
  },
  {
   "cell_type": "code",
   "execution_count": 6,
   "metadata": {},
   "outputs": [],
   "source": [
    "n_classes = len(np.bincount(train_dataset['train']['label']))"
   ]
  },
  {
   "cell_type": "code",
   "execution_count": 19,
   "metadata": {},
   "outputs": [],
   "source": [
    "label_names = {\n",
    "    0 : \"World\",\n",
    "    1 : \"Sports\",\n",
    "    2 : \"Business\",\n",
    "    3 : \"Sci/Tech\"\n",
    "}"
   ]
  },
  {
   "cell_type": "code",
   "execution_count": 60,
   "metadata": {},
   "outputs": [],
   "source": [
    "model = AutoModelForImageClassification.from_pretrained(\n",
    "    \"tzhao3/vit-tiny-imagenet\", \n",
    "    attn_implementation = 'eager', \n",
    "    cache_dir = '/Data'\n",
    ")\\\n",
    "    .to(device)\n",
    "processor = AutoProcessor.from_pretrained(\"tzhao3/vit-tiny-imagenet\")\n"
   ]
  },
  {
   "cell_type": "code",
   "execution_count": 30,
   "metadata": {},
   "outputs": [],
   "source": [
    "batch_size = 1\n",
    "train_dataloader = DataLoader(train_dataset['train'], batch_size=batch_size)\n",
    "val_dataloader = DataLoader(train_dataset['test'], batch_size=batch_size)"
   ]
  },
  {
   "cell_type": "code",
   "execution_count": 46,
   "metadata": {},
   "outputs": [],
   "source": [
    "metric = AttentionRollout(model, attention_layer_name='attention')"
   ]
  },
  {
   "cell_type": "code",
   "execution_count": 48,
   "metadata": {},
   "outputs": [
    {
     "name": "stderr",
     "output_type": "stream",
     "text": [
      "  0%|          | 0/200 [00:00<?, ?it/s]"
     ]
    },
    {
     "name": "stderr",
     "output_type": "stream",
     "text": [
      "100%|██████████| 200/200 [00:14<00:00, 14.15it/s]\n"
     ]
    },
    {
     "name": "stdout",
     "output_type": "stream",
     "text": [
      "Removed 0.0 best tokens. Accuracy = 0.969072163105011\n"
     ]
    },
    {
     "name": "stderr",
     "output_type": "stream",
     "text": [
      "100%|██████████| 200/200 [00:14<00:00, 14.03it/s]\n"
     ]
    },
    {
     "name": "stdout",
     "output_type": "stream",
     "text": [
      "Removed 0.1 best tokens. Accuracy = 0.8969072103500366\n"
     ]
    },
    {
     "name": "stderr",
     "output_type": "stream",
     "text": [
      "100%|██████████| 200/200 [00:14<00:00, 14.03it/s]\n"
     ]
    },
    {
     "name": "stdout",
     "output_type": "stream",
     "text": [
      "Removed 0.2 best tokens. Accuracy = 0.8195876479148865\n"
     ]
    },
    {
     "name": "stderr",
     "output_type": "stream",
     "text": [
      "100%|██████████| 200/200 [00:14<00:00, 13.80it/s]\n"
     ]
    },
    {
     "name": "stdout",
     "output_type": "stream",
     "text": [
      "Removed 0.30000000000000004 best tokens. Accuracy = 0.7164948582649231\n"
     ]
    },
    {
     "name": "stderr",
     "output_type": "stream",
     "text": [
      "100%|██████████| 200/200 [00:14<00:00, 13.84it/s]\n"
     ]
    },
    {
     "name": "stdout",
     "output_type": "stream",
     "text": [
      "Removed 0.4 best tokens. Accuracy = 0.5360824465751648\n"
     ]
    },
    {
     "name": "stderr",
     "output_type": "stream",
     "text": [
      "100%|██████████| 200/200 [00:14<00:00, 13.87it/s]\n"
     ]
    },
    {
     "name": "stdout",
     "output_type": "stream",
     "text": [
      "Removed 0.5 best tokens. Accuracy = 0.3505154550075531\n"
     ]
    },
    {
     "name": "stderr",
     "output_type": "stream",
     "text": [
      "100%|██████████| 200/200 [00:14<00:00, 13.80it/s]\n"
     ]
    },
    {
     "name": "stdout",
     "output_type": "stream",
     "text": [
      "Removed 0.6000000000000001 best tokens. Accuracy = 0.22680412232875824\n"
     ]
    },
    {
     "name": "stderr",
     "output_type": "stream",
     "text": [
      "100%|██████████| 200/200 [00:14<00:00, 13.79it/s]\n"
     ]
    },
    {
     "name": "stdout",
     "output_type": "stream",
     "text": [
      "Removed 0.7000000000000001 best tokens. Accuracy = 0.13917525112628937\n"
     ]
    },
    {
     "name": "stderr",
     "output_type": "stream",
     "text": [
      "100%|██████████| 200/200 [00:14<00:00, 13.76it/s]\n"
     ]
    },
    {
     "name": "stdout",
     "output_type": "stream",
     "text": [
      "Removed 0.8 best tokens. Accuracy = 0.10309278219938278\n"
     ]
    },
    {
     "name": "stderr",
     "output_type": "stream",
     "text": [
      "100%|██████████| 200/200 [00:14<00:00, 13.74it/s]"
     ]
    },
    {
     "name": "stdout",
     "output_type": "stream",
     "text": [
      "Removed 0.9 best tokens. Accuracy = 0.07216494530439377\n"
     ]
    },
    {
     "name": "stderr",
     "output_type": "stream",
     "text": [
      "\n"
     ]
    }
   ],
   "source": [
    "\n",
    "accs = {}\n",
    "\n",
    "ks = np.arange(0, 1., 0.1)\n",
    "\n",
    "for k in ks:\n",
    "    y_pred_test = torch.Tensor([])\n",
    "    y_true_test = torch.Tensor([])\n",
    "    for row in tqdm(train_dataset['train']):\n",
    "        try:\n",
    "            tokens = processor(\n",
    "                row['image'], \n",
    "                return_tensors='pt',\n",
    "                padding = 'longest'\n",
    "            )\n",
    "        except:\n",
    "            continue\n",
    "        out, attn_matrix = metric(**tokens.to(device))\n",
    "\n",
    "        new_input = perturb_image(tokens['pixel_values'], attn_matrix.squeeze(), k, processor)\n",
    "        # print(new_input['input_ids'].shape)\n",
    "        tokens['pixel_values'] = new_input\n",
    "\n",
    "        with torch.no_grad():\n",
    "            out = model(**tokens.to(device))\n",
    "\n",
    "        y_pred = out.logits.topk(k = 5).indices\n",
    "        correct = torch.Tensor([int(row['label'] in y_pred)])\n",
    "\n",
    "        y_pred_test = torch.concat([y_pred_test, correct])\n",
    "\n",
    "\n",
    "    accs[k] = y_pred_test.mean().item()\n",
    "\n",
    "    print(f\"Removed {k} best tokens. Accuracy = {accs[k]}\")"
   ]
  },
  {
   "cell_type": "code",
   "execution_count": 50,
   "metadata": {},
   "outputs": [],
   "source": [
    "pd.Series(accs)\\\n",
    "    .to_pickle(\"data/results/vit_attn_rollout_perturbation_positive.pkl\")"
   ]
  },
  {
   "cell_type": "markdown",
   "metadata": {},
   "source": [
    "## Gradient attention rollout"
   ]
  },
  {
   "cell_type": "code",
   "execution_count": null,
   "metadata": {},
   "outputs": [],
   "source": []
  },
  {
   "cell_type": "code",
   "execution_count": 68,
   "metadata": {},
   "outputs": [],
   "source": [
    "metric = AttentionGradRollout(model, attention_layer_name='attention.dropout')"
   ]
  },
  {
   "cell_type": "code",
   "execution_count": 69,
   "metadata": {},
   "outputs": [
    {
     "data": {
      "text/plain": [
       "(14, 14)"
      ]
     },
     "execution_count": 69,
     "metadata": {},
     "output_type": "execute_result"
    }
   ],
   "source": [
    "attn_matrix.shape"
   ]
  },
  {
   "cell_type": "code",
   "execution_count": 70,
   "metadata": {},
   "outputs": [
    {
     "name": "stderr",
     "output_type": "stream",
     "text": [
      "  0%|          | 0/200 [00:00<?, ?it/s]"
     ]
    },
    {
     "name": "stderr",
     "output_type": "stream",
     "text": [
      "/users/eleves-a/2022/pedro.silva/.local/lib/python3.11/site-packages/transformers/image_processing_utils.py:41: UserWarning: The following named arguments are not valid for `ViTImageProcessor.preprocess` and were ignored: 'padding'\n",
      "  return self.preprocess(images, **kwargs)\n",
      "/users/eleves-a/2022/pedro.silva/.local/lib/python3.11/site-packages/torch/nn/modules/module.py:1827: FutureWarning: Using a non-full backward hook when the forward contains multiple autograd Nodes is deprecated and will be removed in future versions. This hook will be missing some grad_input. Please use register_full_backward_hook to get the documented behavior.\n",
      "  self._maybe_warn_non_full_backward_hook(args, result, grad_fn)\n",
      "100%|██████████| 200/200 [00:14<00:00, 14.09it/s]\n"
     ]
    },
    {
     "name": "stdout",
     "output_type": "stream",
     "text": [
      "Removed 0.0 best tokens. Accuracy = 0.969072163105011\n"
     ]
    },
    {
     "name": "stderr",
     "output_type": "stream",
     "text": [
      "100%|██████████| 200/200 [00:14<00:00, 13.76it/s]\n"
     ]
    },
    {
     "name": "stdout",
     "output_type": "stream",
     "text": [
      "Removed 0.1 best tokens. Accuracy = 0.8865979313850403\n"
     ]
    },
    {
     "name": "stderr",
     "output_type": "stream",
     "text": [
      "100%|██████████| 200/200 [00:14<00:00, 13.50it/s]\n"
     ]
    },
    {
     "name": "stdout",
     "output_type": "stream",
     "text": [
      "Removed 0.2 best tokens. Accuracy = 0.7422680258750916\n"
     ]
    },
    {
     "name": "stderr",
     "output_type": "stream",
     "text": [
      "100%|██████████| 200/200 [00:14<00:00, 13.37it/s]\n"
     ]
    },
    {
     "name": "stdout",
     "output_type": "stream",
     "text": [
      "Removed 0.30000000000000004 best tokens. Accuracy = 0.5412371158599854\n"
     ]
    },
    {
     "name": "stderr",
     "output_type": "stream",
     "text": [
      "100%|██████████| 200/200 [00:15<00:00, 13.33it/s]\n"
     ]
    },
    {
     "name": "stdout",
     "output_type": "stream",
     "text": [
      "Removed 0.4 best tokens. Accuracy = 0.3659793734550476\n"
     ]
    },
    {
     "name": "stderr",
     "output_type": "stream",
     "text": [
      "100%|██████████| 200/200 [00:15<00:00, 13.24it/s]\n"
     ]
    },
    {
     "name": "stdout",
     "output_type": "stream",
     "text": [
      "Removed 0.5 best tokens. Accuracy = 0.21134020388126373\n"
     ]
    },
    {
     "name": "stderr",
     "output_type": "stream",
     "text": [
      "100%|██████████| 200/200 [00:15<00:00, 13.19it/s]\n"
     ]
    },
    {
     "name": "stdout",
     "output_type": "stream",
     "text": [
      "Removed 0.6000000000000001 best tokens. Accuracy = 0.18041236698627472\n"
     ]
    },
    {
     "name": "stderr",
     "output_type": "stream",
     "text": [
      "100%|██████████| 200/200 [00:15<00:00, 13.04it/s]\n"
     ]
    },
    {
     "name": "stdout",
     "output_type": "stream",
     "text": [
      "Removed 0.7000000000000001 best tokens. Accuracy = 0.09278350323438644\n"
     ]
    },
    {
     "name": "stderr",
     "output_type": "stream",
     "text": [
      "100%|██████████| 200/200 [00:15<00:00, 12.83it/s]\n"
     ]
    },
    {
     "name": "stdout",
     "output_type": "stream",
     "text": [
      "Removed 0.8 best tokens. Accuracy = 0.07216494530439377\n"
     ]
    },
    {
     "name": "stderr",
     "output_type": "stream",
     "text": [
      "100%|██████████| 200/200 [00:17<00:00, 11.28it/s]\n"
     ]
    },
    {
     "name": "stdout",
     "output_type": "stream",
     "text": [
      "Removed 0.9 best tokens. Accuracy = 0.0670103058218956\n"
     ]
    }
   ],
   "source": [
    "\n",
    "accs = {}\n",
    "\n",
    "ks = np.arange(0, 1., 0.1)\n",
    "\n",
    "for k in ks:\n",
    "    y_pred_test = torch.Tensor([])\n",
    "    y_true_test = torch.Tensor([])\n",
    "    for row in tqdm(train_dataset['train']):\n",
    "        try:\n",
    "            tokens = processor(\n",
    "                row['image'], \n",
    "                return_tensors='pt',\n",
    "                padding = 'longest'\n",
    "            )\n",
    "            tokens['labels'] = torch.tensor(row['label'])\n",
    "        except:\n",
    "            continue\n",
    "        out, attn_matrix = metric(**tokens.to(device))\n",
    "\n",
    "        new_input = perturb_image(tokens['pixel_values'], attn_matrix.squeeze(), k, processor)\n",
    "        # print(new_input['input_ids'].shape)\n",
    "        tokens['pixel_values'] = new_input\n",
    "\n",
    "        with torch.no_grad():\n",
    "            out = model(**tokens.to(device))\n",
    "\n",
    "        y_pred = out.logits.topk(k = 5).indices\n",
    "        correct = torch.Tensor([int(row['label'] in y_pred)])\n",
    "\n",
    "        y_pred_test = torch.concat([y_pred_test, correct])\n",
    "\n",
    "\n",
    "    accs[k] = y_pred_test.mean().item()\n",
    "\n",
    "    print(f\"Removed {k} best tokens. Accuracy = {accs[k]}\")"
   ]
  },
  {
   "cell_type": "code",
   "execution_count": 71,
   "metadata": {},
   "outputs": [],
   "source": [
    "pd.Series(accs)\\\n",
    "    .to_pickle(\"data/results/vit_grad_rollout_perturbation_positive.pkl\")"
   ]
  },
  {
   "cell_type": "markdown",
   "metadata": {},
   "source": [
    "## Influence "
   ]
  },
  {
   "cell_type": "code",
   "execution_count": 79,
   "metadata": {},
   "outputs": [],
   "source": [
    "metric = Influence(model, discard_ratio=0.9, is_vit=True, return_mask=False)"
   ]
  },
  {
   "cell_type": "code",
   "execution_count": 80,
   "metadata": {},
   "outputs": [
    {
     "data": {
      "text/plain": [
       "torch.Size([1, 197, 197])"
      ]
     },
     "execution_count": 80,
     "metadata": {},
     "output_type": "execute_result"
    }
   ],
   "source": [
    "attn_matrix.shape"
   ]
  },
  {
   "cell_type": "code",
   "execution_count": 84,
   "metadata": {},
   "outputs": [
    {
     "name": "stderr",
     "output_type": "stream",
     "text": [
      "  0%|          | 0/200 [00:00<?, ?it/s]/users/eleves-a/2022/pedro.silva/.local/lib/python3.11/site-packages/transformers/image_processing_utils.py:41: UserWarning: The following named arguments are not valid for `ViTImageProcessor.preprocess` and were ignored: 'padding'\n",
      "  return self.preprocess(images, **kwargs)\n",
      "100%|██████████| 200/200 [00:09<00:00, 21.28it/s]\n"
     ]
    },
    {
     "name": "stdout",
     "output_type": "stream",
     "text": [
      "Removed 0.0 best tokens. Accuracy = 0.969072163105011\n"
     ]
    },
    {
     "name": "stderr",
     "output_type": "stream",
     "text": [
      "100%|██████████| 200/200 [00:09<00:00, 21.25it/s]\n"
     ]
    },
    {
     "name": "stdout",
     "output_type": "stream",
     "text": [
      "Removed 0.1 best tokens. Accuracy = 0.9020618796348572\n"
     ]
    },
    {
     "name": "stderr",
     "output_type": "stream",
     "text": [
      "100%|██████████| 200/200 [00:09<00:00, 20.90it/s]\n"
     ]
    },
    {
     "name": "stdout",
     "output_type": "stream",
     "text": [
      "Removed 0.2 best tokens. Accuracy = 0.7680412530899048\n"
     ]
    },
    {
     "name": "stderr",
     "output_type": "stream",
     "text": [
      "100%|██████████| 200/200 [00:09<00:00, 20.94it/s]\n"
     ]
    },
    {
     "name": "stdout",
     "output_type": "stream",
     "text": [
      "Removed 0.30000000000000004 best tokens. Accuracy = 0.6443299055099487\n"
     ]
    },
    {
     "name": "stderr",
     "output_type": "stream",
     "text": [
      "100%|██████████| 200/200 [00:09<00:00, 20.63it/s]\n"
     ]
    },
    {
     "name": "stdout",
     "output_type": "stream",
     "text": [
      "Removed 0.4 best tokens. Accuracy = 0.4536082446575165\n"
     ]
    },
    {
     "name": "stderr",
     "output_type": "stream",
     "text": [
      "100%|██████████| 200/200 [00:09<00:00, 20.64it/s]\n"
     ]
    },
    {
     "name": "stdout",
     "output_type": "stream",
     "text": [
      "Removed 0.5 best tokens. Accuracy = 0.3144329786300659\n"
     ]
    },
    {
     "name": "stderr",
     "output_type": "stream",
     "text": [
      "100%|██████████| 200/200 [00:09<00:00, 20.40it/s]\n"
     ]
    },
    {
     "name": "stdout",
     "output_type": "stream",
     "text": [
      "Removed 0.6000000000000001 best tokens. Accuracy = 0.21134020388126373\n"
     ]
    },
    {
     "name": "stderr",
     "output_type": "stream",
     "text": [
      "100%|██████████| 200/200 [00:09<00:00, 20.41it/s]\n"
     ]
    },
    {
     "name": "stdout",
     "output_type": "stream",
     "text": [
      "Removed 0.7000000000000001 best tokens. Accuracy = 0.13917525112628937\n"
     ]
    },
    {
     "name": "stderr",
     "output_type": "stream",
     "text": [
      "100%|██████████| 200/200 [00:09<00:00, 20.05it/s]\n"
     ]
    },
    {
     "name": "stdout",
     "output_type": "stream",
     "text": [
      "Removed 0.8 best tokens. Accuracy = 0.0824742242693901\n"
     ]
    },
    {
     "name": "stderr",
     "output_type": "stream",
     "text": [
      "100%|██████████| 200/200 [00:10<00:00, 19.94it/s]"
     ]
    },
    {
     "name": "stdout",
     "output_type": "stream",
     "text": [
      "Removed 0.9 best tokens. Accuracy = 0.0824742242693901\n"
     ]
    },
    {
     "name": "stderr",
     "output_type": "stream",
     "text": [
      "\n"
     ]
    }
   ],
   "source": [
    "\n",
    "accs = {}\n",
    "\n",
    "ks = np.arange(0, 1., 0.1)\n",
    "\n",
    "for k in ks:\n",
    "    y_pred_test = torch.Tensor([])\n",
    "    y_true_test = torch.Tensor([])\n",
    "    for row in tqdm(train_dataset['train']):\n",
    "        try:\n",
    "            tokens = processor(\n",
    "                row['image'], \n",
    "                return_tensors='pt',\n",
    "                padding = 'longest'\n",
    "            )\n",
    "        except:\n",
    "            continue\n",
    "\n",
    "        attn_matrix = metric(**tokens.to(device))\n",
    "\n",
    "        new_input = perturb_image(tokens['pixel_values'], attn_matrix.squeeze(), k, processor)\n",
    "        # print(new_input['input_ids'].shape)\n",
    "        tokens['pixel_values'] = new_input\n",
    "\n",
    "        with torch.no_grad():\n",
    "            out = model(**tokens.to(device))\n",
    "\n",
    "        y_pred = out.logits.topk(k = 5).indices\n",
    "        correct = torch.Tensor([int(row['label'] in y_pred)])\n",
    "\n",
    "        y_pred_test = torch.concat([y_pred_test, correct])\n",
    "\n",
    "\n",
    "    accs[k] = y_pred_test.mean().item()\n",
    "\n",
    "    print(f\"Removed {k} best tokens. Accuracy = {accs[k]}\")"
   ]
  },
  {
   "cell_type": "code",
   "execution_count": 85,
   "metadata": {},
   "outputs": [],
   "source": [
    "pd.Series(accs)\\\n",
    "    .to_pickle(\"data/results/vit_influence_perturbation_positive.pkl\")"
   ]
  },
  {
   "cell_type": "markdown",
   "metadata": {},
   "source": [
    "## Final plot"
   ]
  },
  {
   "cell_type": "code",
   "execution_count": 86,
   "metadata": {},
   "outputs": [
    {
     "name": "stdout",
     "output_type": "stream",
     "text": [
      "attn_rollout - AUC = 0.43092783279716973\n",
      "influence - AUC = 0.4041237134486437\n",
      "grad_rollout - AUC = 0.3610824700444937\n"
     ]
    },
    {
     "data": {
      "image/png": "[encoded data removed]",
      "text/plain": [
       "<Figure size 600x400 with 1 Axes>"
      ]
     },
     "metadata": {},
     "output_type": "display_data"
    }
   ],
   "source": [
    "metrics = ['attn_rollout','influence', 'grad_rollout']\n",
    "\n",
    "plt.figure(figsize=(6,4))\n",
    "for metric in metrics:\n",
    "    x = pd.read_pickle(f\"data/results/vit_{metric}_perturbation_positive.pkl\")\n",
    "    auc = np.trapz(x.values, x.index)\n",
    "\n",
    "    print(f\"{metric} - AUC = {auc}\")\n",
    "    plt.plot(x, label = metric, linewidth = 3)\n",
    "\n",
    "plt.grid()\n",
    "plt.title(\"Positive perturbation study\", fontsize = 18)\n",
    "plt.ylabel(\"Accuracy\", fontsize = 16)\n",
    "plt.xlabel(\"# of removed tokens\", fontsize = 16)\n",
    "plt.legend(fontsize = 18)\n",
    "plt.tight_layout()"
   ]
  }
 ],
 "metadata": {
  "kernelspec": {
   "display_name": "base",
   "language": "python",
   "name": "python3"
  },
  "language_info": {
   "codemirror_mode": {
    "name": "ipython",
    "version": 3
   },
   "file_extension": ".py",
   "mimetype": "text/x-python",
   "name": "python",
   "nbconvert_exporter": "python",
   "pygments_lexer": "ipython3",
   "version": "3.11.3"
  }
 },
 "nbformat": 4,
 "nbformat_minor": 2
}
