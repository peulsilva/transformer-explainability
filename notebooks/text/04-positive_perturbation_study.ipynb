{
 "cells": [
  {
   "cell_type": "code",
   "execution_count": 1,
   "metadata": {},
   "outputs": [],
   "source": [
    "%load_ext autoreload\n",
    "%autoreload 2"
   ]
  },
  {
   "cell_type": "code",
   "execution_count": 2,
   "metadata": {},
   "outputs": [
    {
     "name": "stderr",
     "output_type": "stream",
     "text": [
      "[nltk_data] Downloading package punkt to\n",
      "[nltk_data]     /users/eleves-a/2022/pedro.silva/nltk_data...\n",
      "[nltk_data]   Package punkt is already up-to-date!\n",
      "[nltk_data] Downloading package wordnet to\n",
      "[nltk_data]     /users/eleves-a/2022/pedro.silva/nltk_data...\n",
      "[nltk_data]   Package wordnet is already up-to-date!\n",
      "[nltk_data] Downloading package omw-1.4 to\n",
      "[nltk_data]     /users/eleves-a/2022/pedro.silva/nltk_data...\n",
      "[nltk_data]   Package omw-1.4 is already up-to-date!\n",
      "[nltk_data] Downloading package averaged_perceptron_tagger to\n",
      "[nltk_data]     /users/eleves-a/2022/pedro.silva/nltk_data...\n",
      "[nltk_data]   Package averaged_perceptron_tagger is already up-to-\n",
      "[nltk_data]       date!\n",
      "[nltk_data] Downloading package stopwords to\n",
      "[nltk_data]     /users/eleves-a/2022/pedro.silva/nltk_data...\n",
      "[nltk_data]   Package stopwords is already up-to-date!\n",
      "[nltk_data] Downloading package punkt to\n",
      "[nltk_data]     /users/eleves-a/2022/pedro.silva/nltk_data...\n",
      "[nltk_data]   Package punkt is already up-to-date!\n"
     ]
    }
   ],
   "source": [
    "import os\n",
    "while 'notebooks' in os.getcwd():\n",
    "    os.chdir(\"..\")\n",
    "\n",
    "import torch\n",
    "from transformers import AutoModelForSequenceClassification, AutoTokenizer, AutoModel\n",
    "from datasets import load_dataset\n",
    "from src.attention_rollout import AttentionRollout\n",
    "from src.gradient_rollout import AttentionGradRollout\n",
    "from src.raw_attention import RawAttention\n",
    "from src.influence import Influence\n",
    "from torch.utils.data import DataLoader, RandomSampler\n",
    "from tqdm import tqdm\n",
    "\n",
    "import seaborn as sns\n",
    "import numpy as np\n",
    "import pandas as pd\n",
    "import wordcloud\n",
    "from src.text_utils import remove_stopwords, remove_punctuation, get_word_frequencies, lemmatize_text\n",
    "from copy import deepcopy\n",
    "from IPython.display import clear_output\n",
    "import matplotlib.pyplot as plt\n",
    "import scienceplots\n",
    "plt.style.use(['science', 'no-latex'])\n",
    "from src.perturbation import perturb_text"
   ]
  },
  {
   "cell_type": "code",
   "execution_count": 3,
   "metadata": {},
   "outputs": [],
   "source": [
    "device = 'cuda'"
   ]
  },
  {
   "cell_type": "markdown",
   "metadata": {},
   "source": [
    "## AG News"
   ]
  },
  {
   "cell_type": "code",
   "execution_count": 4,
   "metadata": {},
   "outputs": [
    {
     "data": {
      "application/vnd.jupyter.widget-view+json": {
       "model_id": "e4c4381c7f5144a6bf4ddd396346a14e",
       "version_major": 2,
       "version_minor": 0
      },
      "text/plain": [
       "train.jsonl:   0%|          | 0.00/33.8M [00:00<?, ?B/s]"
      ]
     },
     "metadata": {},
     "output_type": "display_data"
    },
    {
     "data": {
      "application/vnd.jupyter.widget-view+json": {
       "model_id": "1090cf3a58e54ee48ade540b9a6adf39",
       "version_major": 2,
       "version_minor": 0
      },
      "text/plain": [
       "test.jsonl:   0%|          | 0.00/2.13M [00:00<?, ?B/s]"
      ]
     },
     "metadata": {},
     "output_type": "display_data"
    },
    {
     "data": {
      "application/vnd.jupyter.widget-view+json": {
       "model_id": "8aa0aeee0e2d4247ad1b02e5e1be54cc",
       "version_major": 2,
       "version_minor": 0
      },
      "text/plain": [
       "Generating train split:   0%|          | 0/120000 [00:00<?, ? examples/s]"
      ]
     },
     "metadata": {},
     "output_type": "display_data"
    },
    {
     "data": {
      "application/vnd.jupyter.widget-view+json": {
       "model_id": "892463e2a3e6461886fca13e8ff79923",
       "version_major": 2,
       "version_minor": 0
      },
      "text/plain": [
       "Generating test split:   0%|          | 0/7600 [00:00<?, ? examples/s]"
      ]
     },
     "metadata": {},
     "output_type": "display_data"
    }
   ],
   "source": [
    "train_dataset = load_dataset(\"SetFit/ag_news\", cache_dir='/Data', split = 'train')\\\n",
    "    .train_test_split(test_size=1000, train_size=2000, seed=1)\n",
    "\n",
    "test_dataset = load_dataset(\"SetFit/ag_news\", cache_dir='/Data', split = 'test')"
   ]
  },
  {
   "cell_type": "code",
   "execution_count": 5,
   "metadata": {},
   "outputs": [],
   "source": [
    "n_classes = len(np.bincount(train_dataset['train']['label']))"
   ]
  },
  {
   "cell_type": "code",
   "execution_count": 6,
   "metadata": {},
   "outputs": [],
   "source": [
    "label_names = {\n",
    "    0 : \"World\",\n",
    "    1 : \"Sports\",\n",
    "    2 : \"Business\",\n",
    "    3 : \"Sci/Tech\"\n",
    "}"
   ]
  },
  {
   "cell_type": "code",
   "execution_count": 7,
   "metadata": {},
   "outputs": [
    {
     "data": {
      "application/vnd.jupyter.widget-view+json": {
       "model_id": "066e3961116d4d4c91c0e86c16b637f1",
       "version_major": 2,
       "version_minor": 0
      },
      "text/plain": [
       "config.json:   0%|          | 0.00/919 [00:00<?, ?B/s]"
      ]
     },
     "metadata": {},
     "output_type": "display_data"
    },
    {
     "data": {
      "application/vnd.jupyter.widget-view+json": {
       "model_id": "9056877033f5412298897f4e5be8ef6f",
       "version_major": 2,
       "version_minor": 0
      },
      "text/plain": [
       "model.safetensors:   0%|          | 0.00/438M [00:00<?, ?B/s]"
      ]
     },
     "metadata": {},
     "output_type": "display_data"
    },
    {
     "data": {
      "application/vnd.jupyter.widget-view+json": {
       "model_id": "bd3a1303222b47a6ba38c4b1869b7c64",
       "version_major": 2,
       "version_minor": 0
      },
      "text/plain": [
       "tokenizer_config.json:   0%|          | 0.00/48.0 [00:00<?, ?B/s]"
      ]
     },
     "metadata": {},
     "output_type": "display_data"
    },
    {
     "data": {
      "application/vnd.jupyter.widget-view+json": {
       "model_id": "00a1faacd4a4487e8c4f93bc1e1f50c0",
       "version_major": 2,
       "version_minor": 0
      },
      "text/plain": [
       "config.json:   0%|          | 0.00/570 [00:00<?, ?B/s]"
      ]
     },
     "metadata": {},
     "output_type": "display_data"
    },
    {
     "data": {
      "application/vnd.jupyter.widget-view+json": {
       "model_id": "e69ba5961288475c828faa8f81c0bf4d",
       "version_major": 2,
       "version_minor": 0
      },
      "text/plain": [
       "vocab.txt:   0%|          | 0.00/232k [00:00<?, ?B/s]"
      ]
     },
     "metadata": {},
     "output_type": "display_data"
    },
    {
     "data": {
      "application/vnd.jupyter.widget-view+json": {
       "model_id": "e8d4155928ce4c3981d9e6de69af0be0",
       "version_major": 2,
       "version_minor": 0
      },
      "text/plain": [
       "tokenizer.json:   0%|          | 0.00/466k [00:00<?, ?B/s]"
      ]
     },
     "metadata": {},
     "output_type": "display_data"
    }
   ],
   "source": [
    "model = AutoModelForSequenceClassification.from_pretrained(\n",
    "    \"peulsilva/bert-ag_news\", \n",
    "    attn_implementation = 'eager', \n",
    "    num_labels = n_classes,\n",
    "    cache_dir = '/Data'\n",
    ")\\\n",
    "    .to(device)\n",
    "tokenizer = AutoTokenizer.from_pretrained(\"bert-base-uncased\")\n"
   ]
  },
  {
   "cell_type": "code",
   "execution_count": 8,
   "metadata": {},
   "outputs": [],
   "source": [
    "batch_size = 1\n",
    "train_dataloader = DataLoader(train_dataset['train'], batch_size=batch_size)\n",
    "val_dataloader = DataLoader(train_dataset['test'], batch_size=batch_size)"
   ]
  },
  {
   "cell_type": "markdown",
   "metadata": {},
   "source": [
    "## Raw attention scores"
   ]
  },
  {
   "cell_type": "code",
   "execution_count": 10,
   "metadata": {},
   "outputs": [
    {
     "name": "stderr",
     "output_type": "stream",
     "text": [
      "100%|██████████| 1000/1000 [00:14<00:00, 70.28it/s]\n"
     ]
    },
    {
     "name": "stdout",
     "output_type": "stream",
     "text": [
      "Removed 0.0 best tokens. Accuracy = 0.9039999842643738\n"
     ]
    },
    {
     "name": "stderr",
     "output_type": "stream",
     "text": [
      "100%|██████████| 1000/1000 [00:15<00:00, 66.35it/s]\n"
     ]
    },
    {
     "name": "stdout",
     "output_type": "stream",
     "text": [
      "Removed 0.1 best tokens. Accuracy = 0.906000018119812\n"
     ]
    },
    {
     "name": "stderr",
     "output_type": "stream",
     "text": [
      "100%|██████████| 1000/1000 [00:14<00:00, 67.28it/s]\n"
     ]
    },
    {
     "name": "stdout",
     "output_type": "stream",
     "text": [
      "Removed 0.2 best tokens. Accuracy = 0.9020000100135803\n"
     ]
    },
    {
     "name": "stderr",
     "output_type": "stream",
     "text": [
      "100%|██████████| 1000/1000 [00:14<00:00, 67.44it/s]\n"
     ]
    },
    {
     "name": "stdout",
     "output_type": "stream",
     "text": [
      "Removed 0.30000000000000004 best tokens. Accuracy = 0.9039999842643738\n"
     ]
    },
    {
     "name": "stderr",
     "output_type": "stream",
     "text": [
      "100%|██████████| 1000/1000 [00:14<00:00, 66.94it/s]\n"
     ]
    },
    {
     "name": "stdout",
     "output_type": "stream",
     "text": [
      "Removed 0.4 best tokens. Accuracy = 0.8880000114440918\n"
     ]
    },
    {
     "name": "stderr",
     "output_type": "stream",
     "text": [
      "100%|██████████| 1000/1000 [00:14<00:00, 67.83it/s]\n"
     ]
    },
    {
     "name": "stdout",
     "output_type": "stream",
     "text": [
      "Removed 0.5 best tokens. Accuracy = 0.878000020980835\n"
     ]
    },
    {
     "name": "stderr",
     "output_type": "stream",
     "text": [
      "100%|██████████| 1000/1000 [00:14<00:00, 67.97it/s]\n"
     ]
    },
    {
     "name": "stdout",
     "output_type": "stream",
     "text": [
      "Removed 0.6000000000000001 best tokens. Accuracy = 0.8610000014305115\n"
     ]
    },
    {
     "name": "stderr",
     "output_type": "stream",
     "text": [
      "100%|██████████| 1000/1000 [00:14<00:00, 68.09it/s]\n"
     ]
    },
    {
     "name": "stdout",
     "output_type": "stream",
     "text": [
      "Removed 0.7000000000000001 best tokens. Accuracy = 0.8180000185966492\n"
     ]
    },
    {
     "name": "stderr",
     "output_type": "stream",
     "text": [
      "100%|██████████| 1000/1000 [00:14<00:00, 67.94it/s]\n"
     ]
    },
    {
     "name": "stdout",
     "output_type": "stream",
     "text": [
      "Removed 0.8 best tokens. Accuracy = 0.7580000162124634\n"
     ]
    },
    {
     "name": "stderr",
     "output_type": "stream",
     "text": [
      "100%|██████████| 1000/1000 [00:14<00:00, 68.29it/s]"
     ]
    },
    {
     "name": "stdout",
     "output_type": "stream",
     "text": [
      "Removed 0.9 best tokens. Accuracy = 0.6240000128746033\n"
     ]
    },
    {
     "name": "stderr",
     "output_type": "stream",
     "text": [
      "\n"
     ]
    }
   ],
   "source": [
    "metric = RawAttention(model, attention_layer_name='attention')\n",
    "\n",
    "accs = {}\n",
    "\n",
    "ks = np.arange(0, 1., 0.1)\n",
    "\n",
    "for k in ks:\n",
    "    y_pred_test = torch.Tensor([])\n",
    "    y_true_test = torch.Tensor([])\n",
    "    for row in tqdm(val_dataloader):\n",
    "        tokens = tokenizer(\n",
    "            row['text'], \n",
    "            return_tensors='pt',\n",
    "            padding = 'longest'\n",
    "        )\n",
    "\n",
    "        out, attn_matrix = metric(**tokens.to(device), layer_idx=0)\n",
    "\n",
    "        new_input = perturb_text(tokens, attn_matrix.squeeze(), k, tokenizer)\n",
    "        # print(new_input['input_ids'].shape)\n",
    "        \n",
    "        with torch.no_grad():\n",
    "            out = model(**new_input.to(device))\n",
    "\n",
    "        y_pred = out.logits.argmax().to('cpu').unsqueeze(dim= 0 )\n",
    "        y_true = row['label'].to('cpu')\n",
    "\n",
    "\n",
    "        y_pred_test = torch.concat([y_pred_test, y_pred])\n",
    "        y_true_test = torch.concat([y_true_test, y_true])\n",
    "\n",
    "        acc = (y_true_test == y_pred_test).sum()/len(val_dataloader)\n",
    "\n",
    "        accs[k] = acc\n",
    "\n",
    "    print(f\"Removed {k} best tokens. Accuracy = {acc}\")"
   ]
  },
  {
   "cell_type": "code",
   "execution_count": 13,
   "metadata": {},
   "outputs": [],
   "source": [
    "pd.Series(accs).apply(lambda x: x.item())\\\n",
    "    .to_pickle(\"data/results/raw_attention0_perturbation_positive.pkl\")"
   ]
  },
  {
   "cell_type": "markdown",
   "metadata": {},
   "source": [
    "# Attention Rollout"
   ]
  },
  {
   "cell_type": "code",
   "execution_count": 19,
   "metadata": {},
   "outputs": [],
   "source": [
    "metric = AttentionRollout(model, attention_layer_name='attention')"
   ]
  },
  {
   "cell_type": "code",
   "execution_count": 20,
   "metadata": {},
   "outputs": [
    {
     "name": "stderr",
     "output_type": "stream",
     "text": [
      "100%|██████████| 1000/1000 [00:17<00:00, 55.98it/s]\n"
     ]
    },
    {
     "name": "stdout",
     "output_type": "stream",
     "text": [
      "Removed 0.0 best tokens. Accuracy = 0.9039999842643738\n"
     ]
    },
    {
     "name": "stderr",
     "output_type": "stream",
     "text": [
      "100%|██████████| 1000/1000 [00:18<00:00, 53.89it/s]\n"
     ]
    },
    {
     "name": "stdout",
     "output_type": "stream",
     "text": [
      "Removed 0.1 best tokens. Accuracy = 0.8970000147819519\n"
     ]
    },
    {
     "name": "stderr",
     "output_type": "stream",
     "text": [
      "100%|██████████| 1000/1000 [00:18<00:00, 54.27it/s]\n"
     ]
    },
    {
     "name": "stdout",
     "output_type": "stream",
     "text": [
      "Removed 0.2 best tokens. Accuracy = 0.8320000171661377\n"
     ]
    },
    {
     "name": "stderr",
     "output_type": "stream",
     "text": [
      "100%|██████████| 1000/1000 [00:18<00:00, 54.29it/s]\n"
     ]
    },
    {
     "name": "stdout",
     "output_type": "stream",
     "text": [
      "Removed 0.30000000000000004 best tokens. Accuracy = 0.7850000262260437\n"
     ]
    },
    {
     "name": "stderr",
     "output_type": "stream",
     "text": [
      "100%|██████████| 1000/1000 [00:18<00:00, 53.87it/s]\n"
     ]
    },
    {
     "name": "stdout",
     "output_type": "stream",
     "text": [
      "Removed 0.4 best tokens. Accuracy = 0.7070000171661377\n"
     ]
    },
    {
     "name": "stderr",
     "output_type": "stream",
     "text": [
      "100%|██████████| 1000/1000 [00:18<00:00, 54.20it/s]\n"
     ]
    },
    {
     "name": "stdout",
     "output_type": "stream",
     "text": [
      "Removed 0.5 best tokens. Accuracy = 0.6480000019073486\n"
     ]
    },
    {
     "name": "stderr",
     "output_type": "stream",
     "text": [
      "100%|██████████| 1000/1000 [00:18<00:00, 54.45it/s]\n"
     ]
    },
    {
     "name": "stdout",
     "output_type": "stream",
     "text": [
      "Removed 0.6000000000000001 best tokens. Accuracy = 0.5789999961853027\n"
     ]
    },
    {
     "name": "stderr",
     "output_type": "stream",
     "text": [
      "100%|██████████| 1000/1000 [00:18<00:00, 53.76it/s]\n"
     ]
    },
    {
     "name": "stdout",
     "output_type": "stream",
     "text": [
      "Removed 0.7000000000000001 best tokens. Accuracy = 0.5\n"
     ]
    },
    {
     "name": "stderr",
     "output_type": "stream",
     "text": [
      "100%|██████████| 1000/1000 [00:18<00:00, 52.71it/s]\n"
     ]
    },
    {
     "name": "stdout",
     "output_type": "stream",
     "text": [
      "Removed 0.8 best tokens. Accuracy = 0.4259999990463257\n"
     ]
    },
    {
     "name": "stderr",
     "output_type": "stream",
     "text": [
      "100%|██████████| 1000/1000 [00:19<00:00, 52.57it/s]"
     ]
    },
    {
     "name": "stdout",
     "output_type": "stream",
     "text": [
      "Removed 0.9 best tokens. Accuracy = 0.3330000042915344\n"
     ]
    },
    {
     "name": "stderr",
     "output_type": "stream",
     "text": [
      "\n"
     ]
    }
   ],
   "source": [
    "\n",
    "accs = {}\n",
    "\n",
    "ks = np.arange(0, 1., 0.1)\n",
    "\n",
    "for k in ks:\n",
    "    y_pred_test = torch.Tensor([])\n",
    "    y_true_test = torch.Tensor([])\n",
    "    for row in tqdm(val_dataloader):\n",
    "        tokens = tokenizer(\n",
    "            row['text'], \n",
    "            return_tensors='pt',\n",
    "            padding = 'longest'\n",
    "        )\n",
    "\n",
    "        out, attn_matrix = metric(**tokens.to(device), output_attentions = True)\n",
    "\n",
    "        new_input = perturb_text(tokens, attn_matrix.squeeze(), k, tokenizer)\n",
    "        # print(new_input['input_ids'].shape)\n",
    "        \n",
    "        with torch.no_grad():\n",
    "            out = model(**new_input.to(device))\n",
    "\n",
    "        y_pred = out.logits.argmax().to('cpu').unsqueeze(dim= 0 )\n",
    "        y_true = row['label'].to('cpu')\n",
    "\n",
    "\n",
    "        y_pred_test = torch.concat([y_pred_test, y_pred])\n",
    "        y_true_test = torch.concat([y_true_test, y_true])\n",
    "\n",
    "        acc = (y_true_test == y_pred_test).sum()/len(val_dataloader)\n",
    "\n",
    "        accs[k] = acc\n",
    "\n",
    "    print(f\"Removed {k} best tokens. Accuracy = {acc}\")"
   ]
  },
  {
   "cell_type": "code",
   "execution_count": 21,
   "metadata": {},
   "outputs": [],
   "source": [
    "pd.Series(accs).apply(lambda x: x.item())\\\n",
    "    .to_pickle(\"data/results/attn_rollout_perturbation_positive.pkl\")"
   ]
  },
  {
   "cell_type": "markdown",
   "metadata": {},
   "source": [
    "## Gradient attention rollout"
   ]
  },
  {
   "cell_type": "code",
   "execution_count": null,
   "metadata": {},
   "outputs": [],
   "source": []
  },
  {
   "cell_type": "code",
   "execution_count": 22,
   "metadata": {},
   "outputs": [],
   "source": [
    "metric = AttentionGradRollout(model, attention_layer_name='attention.self.dropout')"
   ]
  },
  {
   "cell_type": "code",
   "execution_count": 23,
   "metadata": {},
   "outputs": [
    {
     "name": "stderr",
     "output_type": "stream",
     "text": [
      "  0%|          | 0/1000 [00:00<?, ?it/s]/users/eleves-a/2022/pedro.silva/.local/lib/python3.11/site-packages/torch/nn/modules/module.py:1827: FutureWarning: Using a non-full backward hook when the forward contains multiple autograd Nodes is deprecated and will be removed in future versions. This hook will be missing some grad_input. Please use register_full_backward_hook to get the documented behavior.\n",
      "  self._maybe_warn_non_full_backward_hook(args, result, grad_fn)\n",
      "100%|██████████| 1000/1000 [00:31<00:00, 31.63it/s]\n"
     ]
    },
    {
     "name": "stdout",
     "output_type": "stream",
     "text": [
      "Removed 0.0 best tokens. Accuracy = 0.9039999842643738\n"
     ]
    },
    {
     "name": "stderr",
     "output_type": "stream",
     "text": [
      "100%|██████████| 1000/1000 [00:32<00:00, 30.89it/s]\n"
     ]
    },
    {
     "name": "stdout",
     "output_type": "stream",
     "text": [
      "Removed 0.1 best tokens. Accuracy = 0.8040000200271606\n"
     ]
    },
    {
     "name": "stderr",
     "output_type": "stream",
     "text": [
      "100%|██████████| 1000/1000 [00:32<00:00, 30.82it/s]\n"
     ]
    },
    {
     "name": "stdout",
     "output_type": "stream",
     "text": [
      "Removed 0.2 best tokens. Accuracy = 0.7509999871253967\n"
     ]
    },
    {
     "name": "stderr",
     "output_type": "stream",
     "text": [
      "100%|██████████| 1000/1000 [00:32<00:00, 30.97it/s]\n"
     ]
    },
    {
     "name": "stdout",
     "output_type": "stream",
     "text": [
      "Removed 0.30000000000000004 best tokens. Accuracy = 0.7039999961853027\n"
     ]
    },
    {
     "name": "stderr",
     "output_type": "stream",
     "text": [
      "100%|██████████| 1000/1000 [00:32<00:00, 31.13it/s]\n"
     ]
    },
    {
     "name": "stdout",
     "output_type": "stream",
     "text": [
      "Removed 0.4 best tokens. Accuracy = 0.656000018119812\n"
     ]
    },
    {
     "name": "stderr",
     "output_type": "stream",
     "text": [
      "100%|██████████| 1000/1000 [00:32<00:00, 31.10it/s]\n"
     ]
    },
    {
     "name": "stdout",
     "output_type": "stream",
     "text": [
      "Removed 0.5 best tokens. Accuracy = 0.6159999966621399\n"
     ]
    },
    {
     "name": "stderr",
     "output_type": "stream",
     "text": [
      "100%|██████████| 1000/1000 [00:32<00:00, 30.67it/s]\n"
     ]
    },
    {
     "name": "stdout",
     "output_type": "stream",
     "text": [
      "Removed 0.6000000000000001 best tokens. Accuracy = 0.5619999766349792\n"
     ]
    },
    {
     "name": "stderr",
     "output_type": "stream",
     "text": [
      "100%|██████████| 1000/1000 [00:32<00:00, 30.61it/s]\n"
     ]
    },
    {
     "name": "stdout",
     "output_type": "stream",
     "text": [
      "Removed 0.7000000000000001 best tokens. Accuracy = 0.4880000054836273\n"
     ]
    },
    {
     "name": "stderr",
     "output_type": "stream",
     "text": [
      "100%|██████████| 1000/1000 [00:32<00:00, 30.44it/s]\n"
     ]
    },
    {
     "name": "stdout",
     "output_type": "stream",
     "text": [
      "Removed 0.8 best tokens. Accuracy = 0.41499999165534973\n"
     ]
    },
    {
     "name": "stderr",
     "output_type": "stream",
     "text": [
      "100%|██████████| 1000/1000 [00:32<00:00, 30.64it/s]"
     ]
    },
    {
     "name": "stdout",
     "output_type": "stream",
     "text": [
      "Removed 0.9 best tokens. Accuracy = 0.33799999952316284\n"
     ]
    },
    {
     "name": "stderr",
     "output_type": "stream",
     "text": [
      "\n"
     ]
    }
   ],
   "source": [
    "\n",
    "accs = {}\n",
    "\n",
    "ks = np.arange(0, 1., 0.1)\n",
    "\n",
    "for k in ks:\n",
    "    y_pred_test = torch.Tensor([])\n",
    "    y_true_test = torch.Tensor([])\n",
    "    for row in tqdm(val_dataloader):\n",
    "        tokens = tokenizer(\n",
    "            row['text'], \n",
    "            return_tensors='pt',\n",
    "            padding = 'longest'\n",
    "        )\n",
    "\n",
    "        tokens['labels'] = row['label']\n",
    "\n",
    "        out, attn_matrix = metric(**tokens.to(device), output_attentions = True)\n",
    "\n",
    "        new_input = perturb_text(tokens, attn_matrix.squeeze(), k, tokenizer)\n",
    "        # print(new_input['input_ids'].shape)\n",
    "        \n",
    "        with torch.no_grad():\n",
    "            out = model(**new_input.to(device))\n",
    "\n",
    "        y_pred = out.logits.argmax().to('cpu').unsqueeze(dim= 0 )\n",
    "        y_true = row['label'].to('cpu')\n",
    "\n",
    "\n",
    "        y_pred_test = torch.concat([y_pred_test, y_pred])\n",
    "        y_true_test = torch.concat([y_true_test, y_true])\n",
    "\n",
    "        acc = (y_true_test == y_pred_test).sum()/len(val_dataloader)\n",
    "\n",
    "        accs[k] = acc\n",
    "\n",
    "    print(f\"Removed {k} best tokens. Accuracy = {acc}\")"
   ]
  },
  {
   "cell_type": "code",
   "execution_count": 24,
   "metadata": {},
   "outputs": [],
   "source": [
    "pd.Series(accs).apply(lambda x: x.item())\\\n",
    "    .to_pickle(\"data/results/grad_rollout_perturbation_positive.pkl\")"
   ]
  },
  {
   "cell_type": "markdown",
   "metadata": {},
   "source": [
    "## Influence "
   ]
  },
  {
   "cell_type": "code",
   "execution_count": 22,
   "metadata": {},
   "outputs": [],
   "source": [
    "metric = Influence(model, discard_ratio=0.9)"
   ]
  },
  {
   "cell_type": "code",
   "execution_count": 30,
   "metadata": {},
   "outputs": [
    {
     "data": {
      "text/plain": [
       "torch.Size([1, 30, 30])"
      ]
     },
     "execution_count": 30,
     "metadata": {},
     "output_type": "execute_result"
    }
   ],
   "source": [
    "attn_matrix.shape"
   ]
  },
  {
   "cell_type": "code",
   "execution_count": 32,
   "metadata": {},
   "outputs": [
    {
     "name": "stderr",
     "output_type": "stream",
     "text": [
      "  0%|          | 0/1000 [00:00<?, ?it/s]"
     ]
    },
    {
     "name": "stderr",
     "output_type": "stream",
     "text": [
      "100%|██████████| 1000/1000 [00:34<00:00, 28.69it/s]\n"
     ]
    },
    {
     "name": "stdout",
     "output_type": "stream",
     "text": [
      "Removed 0.1 best tokens. Accuracy = 0.8980000019073486\n"
     ]
    },
    {
     "name": "stderr",
     "output_type": "stream",
     "text": [
      "100%|██████████| 1000/1000 [00:34<00:00, 29.30it/s]\n"
     ]
    },
    {
     "name": "stdout",
     "output_type": "stream",
     "text": [
      "Removed 0.2 best tokens. Accuracy = 0.8270000219345093\n"
     ]
    },
    {
     "name": "stderr",
     "output_type": "stream",
     "text": [
      "100%|██████████| 1000/1000 [00:34<00:00, 29.32it/s]\n"
     ]
    },
    {
     "name": "stdout",
     "output_type": "stream",
     "text": [
      "Removed 0.30000000000000004 best tokens. Accuracy = 0.7799999713897705\n"
     ]
    },
    {
     "name": "stderr",
     "output_type": "stream",
     "text": [
      "100%|██████████| 1000/1000 [00:33<00:00, 29.47it/s]\n"
     ]
    },
    {
     "name": "stdout",
     "output_type": "stream",
     "text": [
      "Removed 0.4 best tokens. Accuracy = 0.6940000057220459\n"
     ]
    },
    {
     "name": "stderr",
     "output_type": "stream",
     "text": [
      "100%|██████████| 1000/1000 [00:33<00:00, 29.52it/s]\n"
     ]
    },
    {
     "name": "stdout",
     "output_type": "stream",
     "text": [
      "Removed 0.5 best tokens. Accuracy = 0.6389999985694885\n"
     ]
    },
    {
     "name": "stderr",
     "output_type": "stream",
     "text": [
      "100%|██████████| 1000/1000 [00:33<00:00, 29.75it/s]\n"
     ]
    },
    {
     "name": "stdout",
     "output_type": "stream",
     "text": [
      "Removed 0.6 best tokens. Accuracy = 0.5680000185966492\n"
     ]
    },
    {
     "name": "stderr",
     "output_type": "stream",
     "text": [
      "100%|██████████| 1000/1000 [00:34<00:00, 28.59it/s]\n"
     ]
    },
    {
     "name": "stdout",
     "output_type": "stream",
     "text": [
      "Removed 0.7000000000000001 best tokens. Accuracy = 0.4950000047683716\n"
     ]
    },
    {
     "name": "stderr",
     "output_type": "stream",
     "text": [
      "100%|██████████| 1000/1000 [00:35<00:00, 28.26it/s]\n"
     ]
    },
    {
     "name": "stdout",
     "output_type": "stream",
     "text": [
      "Removed 0.8 best tokens. Accuracy = 0.41499999165534973\n"
     ]
    },
    {
     "name": "stderr",
     "output_type": "stream",
     "text": [
      "100%|██████████| 1000/1000 [00:35<00:00, 28.00it/s]"
     ]
    },
    {
     "name": "stdout",
     "output_type": "stream",
     "text": [
      "Removed 0.9 best tokens. Accuracy = 0.3179999887943268\n"
     ]
    },
    {
     "name": "stderr",
     "output_type": "stream",
     "text": [
      "\n"
     ]
    }
   ],
   "source": [
    "\n",
    "accs = {}\n",
    "\n",
    "ks = np.arange(0., 1., 0.1)\n",
    "\n",
    "for k in ks:\n",
    "    y_pred_test = torch.Tensor([])\n",
    "    y_true_test = torch.Tensor([])\n",
    "    for row in tqdm(val_dataloader):\n",
    "        tokens = tokenizer(\n",
    "            row['text'], \n",
    "            return_tensors='pt',\n",
    "            padding = 'longest'\n",
    "        )\n",
    "\n",
    "        tokens['labels'] = row['label']\n",
    "\n",
    "        attn_matrix = metric(**tokens.to(device)).squeeze()\n",
    "\n",
    "        new_input = perturb_text(tokens, attn_matrix, k, tokenizer)\n",
    "        # print(new_input['input_ids'].shape)\n",
    "        \n",
    "        with torch.no_grad():\n",
    "            out = model(**new_input.to(device))\n",
    "\n",
    "        y_pred = out.logits.argmax().to('cpu').unsqueeze(dim= 0 )\n",
    "        y_true = row['label'].to('cpu')\n",
    "\n",
    "\n",
    "        y_pred_test = torch.concat([y_pred_test, y_pred])\n",
    "        y_true_test = torch.concat([y_true_test, y_true])\n",
    "\n",
    "        acc = (y_true_test == y_pred_test).sum()/len(val_dataloader)\n",
    "\n",
    "        accs[k] = acc\n",
    "\n",
    "    print(f\"Removed {k} best tokens. Accuracy = {acc}\")"
   ]
  },
  {
   "cell_type": "code",
   "execution_count": 27,
   "metadata": {},
   "outputs": [],
   "source": [
    "pd.Series(accs).apply(lambda x: x.item())\\\n",
    "    .to_pickle(\"data/results/influence_perturbation_positive.pkl\")"
   ]
  },
  {
   "cell_type": "markdown",
   "metadata": {},
   "source": [
    "## Final plot"
   ]
  },
  {
   "cell_type": "code",
   "execution_count": 14,
   "metadata": {},
   "outputs": [
    {
     "name": "stdout",
     "output_type": "stream",
     "text": [
      "raw_attention0 - AUC = 0.7679000079631807\n",
      "attn_rollout - AUC = 0.5992500066757201\n",
      "influence - AUC = 0.5664000019431116\n",
      "grad_rollout - AUC = 0.5616999983787536\n"
     ]
    },
    {
     "data": {
      "image/png": "[encoded data removed]",
      "text/plain": [
       "<Figure size 600x400 with 1 Axes>"
      ]
     },
     "metadata": {},
     "output_type": "display_data"
    }
   ],
   "source": [
    "metrics = ['raw_attention0', 'attn_rollout','influence', 'grad_rollout', ]\n",
    "\n",
    "plt.figure(figsize=(6,4))\n",
    "for metric in metrics:\n",
    "    x = pd.read_pickle(f\"data/results/{metric}_perturbation_positive.pkl\")\n",
    "    auc = np.trapz(x.values, x.index)\n",
    "\n",
    "    print(f\"{metric} - AUC = {auc}\")\n",
    "    plt.plot(x, label = metric, linewidth = 3)\n",
    "\n",
    "plt.grid()\n",
    "plt.title(\"Positive perturbation study\", fontsize = 18)\n",
    "plt.ylabel(\"Accuracy\", fontsize = 16)\n",
    "plt.xlabel(\"# of removed tokens\", fontsize = 16)\n",
    "plt.legend(fontsize = 18)\n",
    "plt.tight_layout()"
   ]
  }
 ],
 "metadata": {
  "kernelspec": {
   "display_name": "base",
   "language": "python",
   "name": "python3"
  },
  "language_info": {
   "codemirror_mode": {
    "name": "ipython",
    "version": 3
   },
   "file_extension": ".py",
   "mimetype": "text/x-python",
   "name": "python",
   "nbconvert_exporter": "python",
   "pygments_lexer": "ipython3",
   "version": "3.11.3"
  }
 },
 "nbformat": 4,
 "nbformat_minor": 2
}
