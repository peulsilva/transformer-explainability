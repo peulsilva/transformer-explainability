{
 "cells": [
  {
   "cell_type": "code",
   "execution_count": 1,
   "metadata": {},
   "outputs": [],
   "source": [
    "%load_ext autoreload\n",
    "%autoreload 2"
   ]
  },
  {
   "cell_type": "code",
   "execution_count": 2,
   "metadata": {},
   "outputs": [
    {
     "name": "stderr",
     "output_type": "stream",
     "text": [
      "[nltk_data] Downloading package punkt to\n",
      "[nltk_data]     /users/eleves-a/2022/pedro.silva/nltk_data...\n",
      "[nltk_data]   Package punkt is already up-to-date!\n",
      "[nltk_data] Downloading package wordnet to\n",
      "[nltk_data]     /users/eleves-a/2022/pedro.silva/nltk_data...\n",
      "[nltk_data]   Package wordnet is already up-to-date!\n",
      "[nltk_data] Downloading package omw-1.4 to\n",
      "[nltk_data]     /users/eleves-a/2022/pedro.silva/nltk_data...\n",
      "[nltk_data]   Package omw-1.4 is already up-to-date!\n",
      "[nltk_data] Downloading package averaged_perceptron_tagger to\n",
      "[nltk_data]     /users/eleves-a/2022/pedro.silva/nltk_data...\n",
      "[nltk_data]   Package averaged_perceptron_tagger is already up-to-\n",
      "[nltk_data]       date!\n",
      "[nltk_data] Downloading package stopwords to\n",
      "[nltk_data]     /users/eleves-a/2022/pedro.silva/nltk_data...\n",
      "[nltk_data]   Package stopwords is already up-to-date!\n",
      "[nltk_data] Downloading package punkt to\n",
      "[nltk_data]     /users/eleves-a/2022/pedro.silva/nltk_data...\n",
      "[nltk_data]   Package punkt is already up-to-date!\n"
     ]
    }
   ],
   "source": [
    "import os\n",
    "while 'notebooks' in os.getcwd():\n",
    "    os.chdir(\"..\")\n",
    "\n",
    "import torch\n",
    "from transformers import AutoModelForSequenceClassification, AutoTokenizer, AutoModel\n",
    "from datasets import load_dataset\n",
    "from src.attention_rollout import AttentionRollout\n",
    "from src.gradient_rollout import AttentionGradRollout\n",
    "from src.influence import Influence\n",
    "from torch.utils.data import DataLoader, RandomSampler\n",
    "from tqdm import tqdm\n",
    "\n",
    "import seaborn as sns\n",
    "import numpy as np\n",
    "import pandas as pd\n",
    "import wordcloud\n",
    "from src.text_utils import remove_stopwords, remove_punctuation, get_word_frequencies, lemmatize_text\n",
    "from copy import deepcopy\n",
    "from IPython.display import clear_output\n",
    "import matplotlib.pyplot as plt\n",
    "import scienceplots\n",
    "plt.style.use(['science', 'no-latex'])\n",
    "from src.perturbation import perturb_text"
   ]
  },
  {
   "cell_type": "code",
   "execution_count": 3,
   "metadata": {},
   "outputs": [],
   "source": [
    "device = 'cuda'"
   ]
  },
  {
   "cell_type": "markdown",
   "metadata": {},
   "source": [
    "# Attention Rollout"
   ]
  },
  {
   "cell_type": "markdown",
   "metadata": {},
   "source": [
    "## AG News"
   ]
  },
  {
   "cell_type": "code",
   "execution_count": 4,
   "metadata": {},
   "outputs": [],
   "source": [
    "train_dataset = load_dataset(\"SetFit/ag_news\", cache_dir='/Data', split = 'train')\\\n",
    "    .train_test_split(test_size=1000, train_size=2000, seed=1)\n",
    "\n",
    "test_dataset = load_dataset(\"SetFit/ag_news\", cache_dir='/Data', split = 'test')"
   ]
  },
  {
   "cell_type": "code",
   "execution_count": 5,
   "metadata": {},
   "outputs": [],
   "source": [
    "n_classes = len(np.bincount(train_dataset['train']['label']))"
   ]
  },
  {
   "cell_type": "code",
   "execution_count": 6,
   "metadata": {},
   "outputs": [],
   "source": [
    "label_names = {\n",
    "    0 : \"World\",\n",
    "    1 : \"Sports\",\n",
    "    2 : \"Business\",\n",
    "    3 : \"Sci/Tech\"\n",
    "}"
   ]
  },
  {
   "cell_type": "code",
   "execution_count": 7,
   "metadata": {},
   "outputs": [],
   "source": [
    "model = AutoModelForSequenceClassification.from_pretrained(\n",
    "    \"peulsilva/bert-ag_news\", \n",
    "    attn_implementation = 'eager', \n",
    "    num_labels = n_classes,\n",
    "    cache_dir = '/Data'\n",
    ")\\\n",
    "    .to(device)\n",
    "tokenizer = AutoTokenizer.from_pretrained(\"bert-base-uncased\")\n"
   ]
  },
  {
   "cell_type": "code",
   "execution_count": 8,
   "metadata": {},
   "outputs": [],
   "source": [
    "batch_size = 1\n",
    "train_dataloader = DataLoader(train_dataset['train'], batch_size=batch_size)\n",
    "val_dataloader = DataLoader(train_dataset['test'], batch_size=batch_size)"
   ]
  },
  {
   "cell_type": "code",
   "execution_count": 9,
   "metadata": {},
   "outputs": [],
   "source": [
    "metric = AttentionRollout(model, attention_layer_name='attention')"
   ]
  },
  {
   "cell_type": "code",
   "execution_count": 10,
   "metadata": {},
   "outputs": [
    {
     "name": "stderr",
     "output_type": "stream",
     "text": [
      "  0%|          | 0/1000 [00:00<?, ?it/s]"
     ]
    },
    {
     "name": "stderr",
     "output_type": "stream",
     "text": [
      "100%|██████████| 1000/1000 [00:17<00:00, 55.60it/s]\n"
     ]
    },
    {
     "name": "stdout",
     "output_type": "stream",
     "text": [
      "Removed 0.0 best tokens. Accuracy = 0.9039999842643738\n"
     ]
    },
    {
     "name": "stderr",
     "output_type": "stream",
     "text": [
      "100%|██████████| 1000/1000 [00:19<00:00, 52.59it/s]\n"
     ]
    },
    {
     "name": "stdout",
     "output_type": "stream",
     "text": [
      "Removed 0.1 best tokens. Accuracy = 0.9089999794960022\n"
     ]
    },
    {
     "name": "stderr",
     "output_type": "stream",
     "text": [
      "100%|██████████| 1000/1000 [00:19<00:00, 51.67it/s]\n"
     ]
    },
    {
     "name": "stdout",
     "output_type": "stream",
     "text": [
      "Removed 0.2 best tokens. Accuracy = 0.9079999923706055\n"
     ]
    },
    {
     "name": "stderr",
     "output_type": "stream",
     "text": [
      "100%|██████████| 1000/1000 [00:19<00:00, 51.92it/s]\n"
     ]
    },
    {
     "name": "stdout",
     "output_type": "stream",
     "text": [
      "Removed 0.30000000000000004 best tokens. Accuracy = 0.9089999794960022\n"
     ]
    },
    {
     "name": "stderr",
     "output_type": "stream",
     "text": [
      "100%|██████████| 1000/1000 [00:19<00:00, 51.95it/s]\n"
     ]
    },
    {
     "name": "stdout",
     "output_type": "stream",
     "text": [
      "Removed 0.4 best tokens. Accuracy = 0.9089999794960022\n"
     ]
    },
    {
     "name": "stderr",
     "output_type": "stream",
     "text": [
      "100%|██████████| 1000/1000 [00:19<00:00, 52.44it/s]\n"
     ]
    },
    {
     "name": "stdout",
     "output_type": "stream",
     "text": [
      "Removed 0.5 best tokens. Accuracy = 0.8999999761581421\n"
     ]
    },
    {
     "name": "stderr",
     "output_type": "stream",
     "text": [
      "100%|██████████| 1000/1000 [00:19<00:00, 52.49it/s]\n"
     ]
    },
    {
     "name": "stdout",
     "output_type": "stream",
     "text": [
      "Removed 0.6000000000000001 best tokens. Accuracy = 0.8960000276565552\n"
     ]
    },
    {
     "name": "stderr",
     "output_type": "stream",
     "text": [
      "100%|██████████| 1000/1000 [00:19<00:00, 52.53it/s]\n"
     ]
    },
    {
     "name": "stdout",
     "output_type": "stream",
     "text": [
      "Removed 0.7000000000000001 best tokens. Accuracy = 0.8840000033378601\n"
     ]
    },
    {
     "name": "stderr",
     "output_type": "stream",
     "text": [
      "100%|██████████| 1000/1000 [00:19<00:00, 52.41it/s]\n"
     ]
    },
    {
     "name": "stdout",
     "output_type": "stream",
     "text": [
      "Removed 0.8 best tokens. Accuracy = 0.8529999852180481\n"
     ]
    },
    {
     "name": "stderr",
     "output_type": "stream",
     "text": [
      "100%|██████████| 1000/1000 [00:19<00:00, 52.57it/s]"
     ]
    },
    {
     "name": "stdout",
     "output_type": "stream",
     "text": [
      "Removed 0.9 best tokens. Accuracy = 0.6539999842643738\n"
     ]
    },
    {
     "name": "stderr",
     "output_type": "stream",
     "text": [
      "\n"
     ]
    }
   ],
   "source": [
    "\n",
    "accs = {}\n",
    "\n",
    "ks = np.arange(0, 1., 0.1)\n",
    "\n",
    "for k in ks:\n",
    "    y_pred_test = torch.Tensor([])\n",
    "    y_true_test = torch.Tensor([])\n",
    "    for row in tqdm(val_dataloader):\n",
    "        tokens = tokenizer(\n",
    "            row['text'], \n",
    "            return_tensors='pt',\n",
    "            padding = 'longest'\n",
    "        )\n",
    "\n",
    "        out, attn_matrix = metric(**tokens.to(device), output_attentions = True)\n",
    "\n",
    "        new_input = perturb_text(tokens, attn_matrix.squeeze(), k, tokenizer, most_important=False)\n",
    "        # print(new_input['input_ids'].shape)\n",
    "        \n",
    "        with torch.no_grad():\n",
    "            out = model(**new_input.to(device))\n",
    "\n",
    "        y_pred = out.logits.argmax().to('cpu').unsqueeze(dim= 0 )\n",
    "        y_true = row['label'].to('cpu')\n",
    "\n",
    "\n",
    "        y_pred_test = torch.concat([y_pred_test, y_pred])\n",
    "        y_true_test = torch.concat([y_true_test, y_true])\n",
    "\n",
    "        acc = (y_true_test == y_pred_test).sum()/len(val_dataloader)\n",
    "\n",
    "        accs[k] = acc\n",
    "\n",
    "    print(f\"Removed {k} worst tokens. Accuracy = {acc}\")"
   ]
  },
  {
   "cell_type": "code",
   "execution_count": 12,
   "metadata": {},
   "outputs": [],
   "source": [
    "pd.Series(accs).apply(lambda x: x.item())\\\n",
    "    .to_pickle(\"data/results/attn_rollout_perturbation_negative.pkl\")"
   ]
  },
  {
   "cell_type": "markdown",
   "metadata": {},
   "source": [
    "## Gradient attention rollout"
   ]
  },
  {
   "cell_type": "code",
   "execution_count": null,
   "metadata": {},
   "outputs": [],
   "source": []
  },
  {
   "cell_type": "code",
   "execution_count": 13,
   "metadata": {},
   "outputs": [],
   "source": [
    "metric = AttentionGradRollout(model, attention_layer_name='attention.self.dropout')"
   ]
  },
  {
   "cell_type": "code",
   "execution_count": 14,
   "metadata": {},
   "outputs": [
    {
     "name": "stderr",
     "output_type": "stream",
     "text": [
      "  0%|          | 0/1000 [00:00<?, ?it/s]"
     ]
    },
    {
     "name": "stderr",
     "output_type": "stream",
     "text": [
      "/users/eleves-a/2022/pedro.silva/.local/lib/python3.11/site-packages/torch/nn/modules/module.py:1827: FutureWarning: Using a non-full backward hook when the forward contains multiple autograd Nodes is deprecated and will be removed in future versions. This hook will be missing some grad_input. Please use register_full_backward_hook to get the documented behavior.\n",
      "  self._maybe_warn_non_full_backward_hook(args, result, grad_fn)\n",
      "100%|██████████| 1000/1000 [00:31<00:00, 31.52it/s]\n"
     ]
    },
    {
     "name": "stdout",
     "output_type": "stream",
     "text": [
      "Removed 0.0 worst tokens. Accuracy = 0.9039999842643738\n"
     ]
    },
    {
     "name": "stderr",
     "output_type": "stream",
     "text": [
      "100%|██████████| 1000/1000 [00:32<00:00, 30.72it/s]\n"
     ]
    },
    {
     "name": "stdout",
     "output_type": "stream",
     "text": [
      "Removed 0.1 worst tokens. Accuracy = 0.9110000133514404\n"
     ]
    },
    {
     "name": "stderr",
     "output_type": "stream",
     "text": [
      "100%|██████████| 1000/1000 [00:32<00:00, 30.83it/s]\n"
     ]
    },
    {
     "name": "stdout",
     "output_type": "stream",
     "text": [
      "Removed 0.2 worst tokens. Accuracy = 0.9169999957084656\n"
     ]
    },
    {
     "name": "stderr",
     "output_type": "stream",
     "text": [
      "100%|██████████| 1000/1000 [00:32<00:00, 31.03it/s]\n"
     ]
    },
    {
     "name": "stdout",
     "output_type": "stream",
     "text": [
      "Removed 0.30000000000000004 worst tokens. Accuracy = 0.9129999876022339\n"
     ]
    },
    {
     "name": "stderr",
     "output_type": "stream",
     "text": [
      "100%|██████████| 1000/1000 [00:32<00:00, 30.93it/s]\n"
     ]
    },
    {
     "name": "stdout",
     "output_type": "stream",
     "text": [
      "Removed 0.4 worst tokens. Accuracy = 0.9190000295639038\n"
     ]
    },
    {
     "name": "stderr",
     "output_type": "stream",
     "text": [
      "100%|██████████| 1000/1000 [00:32<00:00, 30.49it/s]\n"
     ]
    },
    {
     "name": "stdout",
     "output_type": "stream",
     "text": [
      "Removed 0.5 worst tokens. Accuracy = 0.9110000133514404\n"
     ]
    },
    {
     "name": "stderr",
     "output_type": "stream",
     "text": [
      "100%|██████████| 1000/1000 [00:32<00:00, 31.08it/s]\n"
     ]
    },
    {
     "name": "stdout",
     "output_type": "stream",
     "text": [
      "Removed 0.6000000000000001 worst tokens. Accuracy = 0.9049999713897705\n"
     ]
    },
    {
     "name": "stderr",
     "output_type": "stream",
     "text": [
      "100%|██████████| 1000/1000 [00:32<00:00, 31.07it/s]\n"
     ]
    },
    {
     "name": "stdout",
     "output_type": "stream",
     "text": [
      "Removed 0.7000000000000001 worst tokens. Accuracy = 0.8999999761581421\n"
     ]
    },
    {
     "name": "stderr",
     "output_type": "stream",
     "text": [
      "100%|██████████| 1000/1000 [00:32<00:00, 31.07it/s]\n"
     ]
    },
    {
     "name": "stdout",
     "output_type": "stream",
     "text": [
      "Removed 0.8 worst tokens. Accuracy = 0.8730000257492065\n"
     ]
    },
    {
     "name": "stderr",
     "output_type": "stream",
     "text": [
      "100%|██████████| 1000/1000 [00:32<00:00, 30.93it/s]"
     ]
    },
    {
     "name": "stdout",
     "output_type": "stream",
     "text": [
      "Removed 0.9 worst tokens. Accuracy = 0.781000018119812\n"
     ]
    },
    {
     "name": "stderr",
     "output_type": "stream",
     "text": [
      "\n"
     ]
    }
   ],
   "source": [
    "\n",
    "accs = {}\n",
    "\n",
    "ks = np.arange(0, 1., 0.1)\n",
    "\n",
    "for k in ks:\n",
    "    y_pred_test = torch.Tensor([])\n",
    "    y_true_test = torch.Tensor([])\n",
    "    for row in tqdm(val_dataloader):\n",
    "        tokens = tokenizer(\n",
    "            row['text'], \n",
    "            return_tensors='pt',\n",
    "            padding = 'longest'\n",
    "        )\n",
    "\n",
    "        tokens['labels'] = row['label']\n",
    "\n",
    "        out, attn_matrix = metric(**tokens.to(device), output_attentions = True)\n",
    "\n",
    "        new_input = perturb_text(tokens, attn_matrix.squeeze(), k, tokenizer, most_important = False)\n",
    "        # print(new_input['input_ids'].shape)\n",
    "        \n",
    "        with torch.no_grad():\n",
    "            out = model(**new_input.to(device))\n",
    "\n",
    "        y_pred = out.logits.argmax().to('cpu').unsqueeze(dim= 0 )\n",
    "        y_true = row['label'].to('cpu')\n",
    "\n",
    "\n",
    "        y_pred_test = torch.concat([y_pred_test, y_pred])\n",
    "        y_true_test = torch.concat([y_true_test, y_true])\n",
    "\n",
    "        acc = (y_true_test == y_pred_test).sum()/len(val_dataloader)\n",
    "\n",
    "        accs[k] = acc\n",
    "\n",
    "    print(f\"Removed {k} worst tokens. Accuracy = {acc}\")"
   ]
  },
  {
   "cell_type": "code",
   "execution_count": 15,
   "metadata": {},
   "outputs": [],
   "source": [
    "pd.Series(accs).apply(lambda x: x.item())\\\n",
    "    .to_pickle(\"data/results/grad_rollout_perturbation_negative.pkl\")"
   ]
  },
  {
   "cell_type": "markdown",
   "metadata": {},
   "source": [
    "## Influence "
   ]
  },
  {
   "cell_type": "code",
   "execution_count": 16,
   "metadata": {},
   "outputs": [],
   "source": [
    "metric = Influence(model, discard_ratio=0.9)"
   ]
  },
  {
   "cell_type": "code",
   "execution_count": 17,
   "metadata": {},
   "outputs": [
    {
     "name": "stderr",
     "output_type": "stream",
     "text": [
      "  0%|          | 0/1000 [00:00<?, ?it/s]"
     ]
    },
    {
     "name": "stderr",
     "output_type": "stream",
     "text": [
      "100%|██████████| 1000/1000 [00:18<00:00, 52.86it/s]\n"
     ]
    },
    {
     "name": "stdout",
     "output_type": "stream",
     "text": [
      "Removed 0.0 worst tokens. Accuracy = 0.9039999842643738\n"
     ]
    },
    {
     "name": "stderr",
     "output_type": "stream",
     "text": [
      "100%|██████████| 1000/1000 [00:19<00:00, 50.27it/s]\n"
     ]
    },
    {
     "name": "stdout",
     "output_type": "stream",
     "text": [
      "Removed 0.1 worst tokens. Accuracy = 0.9089999794960022\n"
     ]
    },
    {
     "name": "stderr",
     "output_type": "stream",
     "text": [
      "100%|██████████| 1000/1000 [00:19<00:00, 50.87it/s]\n"
     ]
    },
    {
     "name": "stdout",
     "output_type": "stream",
     "text": [
      "Removed 0.2 worst tokens. Accuracy = 0.9110000133514404\n"
     ]
    },
    {
     "name": "stderr",
     "output_type": "stream",
     "text": [
      "100%|██████████| 1000/1000 [00:19<00:00, 51.02it/s]\n"
     ]
    },
    {
     "name": "stdout",
     "output_type": "stream",
     "text": [
      "Removed 0.30000000000000004 worst tokens. Accuracy = 0.9079999923706055\n"
     ]
    },
    {
     "name": "stderr",
     "output_type": "stream",
     "text": [
      "100%|██████████| 1000/1000 [00:19<00:00, 50.63it/s]\n"
     ]
    },
    {
     "name": "stdout",
     "output_type": "stream",
     "text": [
      "Removed 0.4 worst tokens. Accuracy = 0.9039999842643738\n"
     ]
    },
    {
     "name": "stderr",
     "output_type": "stream",
     "text": [
      "100%|██████████| 1000/1000 [00:20<00:00, 49.29it/s]\n"
     ]
    },
    {
     "name": "stdout",
     "output_type": "stream",
     "text": [
      "Removed 0.5 worst tokens. Accuracy = 0.9010000228881836\n"
     ]
    },
    {
     "name": "stderr",
     "output_type": "stream",
     "text": [
      "100%|██████████| 1000/1000 [00:19<00:00, 50.50it/s]\n"
     ]
    },
    {
     "name": "stdout",
     "output_type": "stream",
     "text": [
      "Removed 0.6000000000000001 worst tokens. Accuracy = 0.9010000228881836\n"
     ]
    },
    {
     "name": "stderr",
     "output_type": "stream",
     "text": [
      "100%|██████████| 1000/1000 [00:19<00:00, 51.71it/s]\n"
     ]
    },
    {
     "name": "stdout",
     "output_type": "stream",
     "text": [
      "Removed 0.7000000000000001 worst tokens. Accuracy = 0.8830000162124634\n"
     ]
    },
    {
     "name": "stderr",
     "output_type": "stream",
     "text": [
      "100%|██████████| 1000/1000 [00:19<00:00, 51.45it/s]\n"
     ]
    },
    {
     "name": "stdout",
     "output_type": "stream",
     "text": [
      "Removed 0.8 worst tokens. Accuracy = 0.8610000014305115\n"
     ]
    },
    {
     "name": "stderr",
     "output_type": "stream",
     "text": [
      "100%|██████████| 1000/1000 [00:19<00:00, 51.49it/s]"
     ]
    },
    {
     "name": "stdout",
     "output_type": "stream",
     "text": [
      "Removed 0.9 worst tokens. Accuracy = 0.7279999852180481\n"
     ]
    },
    {
     "name": "stderr",
     "output_type": "stream",
     "text": [
      "\n"
     ]
    }
   ],
   "source": [
    "\n",
    "accs = {}\n",
    "\n",
    "ks = np.arange(0, 1., 0.1)\n",
    "\n",
    "for k in ks:\n",
    "    y_pred_test = torch.Tensor([])\n",
    "    y_true_test = torch.Tensor([])\n",
    "    for row in tqdm(val_dataloader):\n",
    "        tokens = tokenizer(\n",
    "            row['text'], \n",
    "            return_tensors='pt',\n",
    "            padding = 'longest'\n",
    "        )\n",
    "\n",
    "        tokens['labels'] = row['label']\n",
    "\n",
    "        attn_matrix = metric(**tokens.to(device))\n",
    "\n",
    "        new_input = perturb_text(tokens, attn_matrix, k, tokenizer, most_important = False)\n",
    "        # print(new_input['input_ids'].shape)\n",
    "        \n",
    "        with torch.no_grad():\n",
    "            out = model(**new_input.to(device))\n",
    "\n",
    "        y_pred = out.logits.argmax().to('cpu').unsqueeze(dim= 0 )\n",
    "        y_true = row['label'].to('cpu')\n",
    "\n",
    "\n",
    "        y_pred_test = torch.concat([y_pred_test, y_pred])\n",
    "        y_true_test = torch.concat([y_true_test, y_true])\n",
    "\n",
    "        acc = (y_true_test == y_pred_test).sum()/len(val_dataloader)\n",
    "\n",
    "        accs[k] = acc\n",
    "\n",
    "    print(f\"Removed {k} worst tokens. Accuracy = {acc}\")"
   ]
  },
  {
   "cell_type": "code",
   "execution_count": 18,
   "metadata": {},
   "outputs": [],
   "source": [
    "pd.Series(accs).apply(lambda x: x.item())\\\n",
    "    .to_pickle(\"data/results/influence_perturbation_negative.pkl\")"
   ]
  },
  {
   "cell_type": "markdown",
   "metadata": {},
   "source": [
    "## Final plot"
   ]
  },
  {
   "cell_type": "code",
   "execution_count": 4,
   "metadata": {},
   "outputs": [
    {
     "name": "stdout",
     "output_type": "stream",
     "text": [
      "attn_rollout - AUC = 0.7946999907493592\n",
      "influence - AUC = 0.7994000017642975\n",
      "grad_rollout - AUC = 0.8091500014066696\n"
     ]
    },
    {
     "data": {
      "image/png": "[encoded data removed]",
      "text/plain": [
       "<Figure size 600x400 with 1 Axes>"
      ]
     },
     "metadata": {},
     "output_type": "display_data"
    }
   ],
   "source": [
    "metrics = ['attn_rollout','influence', 'grad_rollout']\n",
    "\n",
    "plt.figure(figsize=(6,4))\n",
    "for metric in metrics:\n",
    "    x = pd.read_pickle(f\"data/results/{metric}_perturbation_negative.pkl\")\n",
    "    auc = np.trapz(x.values, x.index)\n",
    "\n",
    "    print(f\"{metric} - AUC = {auc}\")\n",
    "\n",
    "    plt.plot(x, label = metric, linewidth = 3)\n",
    "\n",
    "plt.grid()\n",
    "plt.title(\"Negative perturbation study\", fontsize = 18)\n",
    "plt.ylabel(\"Accuracy\", fontsize = 16)\n",
    "plt.xlabel(\"# of removed tokens\", fontsize = 16)\n",
    "plt.legend(fontsize = 18)\n",
    "plt.tight_layout()"
   ]
  },
  {
   "cell_type": "code",
   "execution_count": null,
   "metadata": {},
   "outputs": [],
   "source": []
  }
 ],
 "metadata": {
  "kernelspec": {
   "display_name": "base",
   "language": "python",
   "name": "python3"
  },
  "language_info": {
   "codemirror_mode": {
    "name": "ipython",
    "version": 3
   },
   "file_extension": ".py",
   "mimetype": "text/x-python",
   "name": "python",
   "nbconvert_exporter": "python",
   "pygments_lexer": "ipython3",
   "version": "3.11.3"
  }
 },
 "nbformat": 4,
 "nbformat_minor": 2
}
