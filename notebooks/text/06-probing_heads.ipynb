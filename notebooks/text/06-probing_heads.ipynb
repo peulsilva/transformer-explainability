{
 "cells": [
  {
   "cell_type": "code",
   "execution_count": 1,
   "metadata": {},
   "outputs": [],
   "source": [
    "import torch\n",
    "import torch.nn as nn\n",
    "import torch.optim as optim\n",
    "from transformers import AutoModel, AutoTokenizer, AutoModelForSequenceClassification\n",
    "from torch.utils.data import DataLoader, Dataset\n",
    "import numpy as np\n",
    "from sklearn.linear_model import LogisticRegression\n",
    "from sklearn.metrics import accuracy_score\n",
    "from datasets import load_dataset\n",
    "from tqdm import tqdm\n",
    "from sklearn.decomposition import PCA\n",
    "import pandas as pd\n",
    "import seaborn as sns\n",
    "import scienceplots\n",
    "import matplotlib.pyplot as plt\n",
    "plt.style.use(['science', 'no-latex'])"
   ]
  },
  {
   "cell_type": "markdown",
   "metadata": {},
   "source": [
    "# IMDB"
   ]
  },
  {
   "cell_type": "code",
   "execution_count": 28,
   "metadata": {},
   "outputs": [
    {
     "data": {
      "application/vnd.jupyter.widget-view+json": {
       "model_id": "bfe779e72c474d2d86a66de8389aa8cd",
       "version_major": 2,
       "version_minor": 0
      },
      "text/plain": [
       "tokenizer_config.json:   0%|          | 0.00/321 [00:00<?, ?B/s]"
      ]
     },
     "metadata": {},
     "output_type": "display_data"
    },
    {
     "data": {
      "application/vnd.jupyter.widget-view+json": {
       "model_id": "924818d867a042fb9e83be8acc08c5d3",
       "version_major": 2,
       "version_minor": 0
      },
      "text/plain": [
       "vocab.txt:   0%|          | 0.00/232k [00:00<?, ?B/s]"
      ]
     },
     "metadata": {},
     "output_type": "display_data"
    },
    {
     "data": {
      "application/vnd.jupyter.widget-view+json": {
       "model_id": "571c4be20a7045868b2d771cdde9fbc3",
       "version_major": 2,
       "version_minor": 0
      },
      "text/plain": [
       "tokenizer.json:   0%|          | 0.00/466k [00:00<?, ?B/s]"
      ]
     },
     "metadata": {},
     "output_type": "display_data"
    },
    {
     "data": {
      "application/vnd.jupyter.widget-view+json": {
       "model_id": "48f7a793855247d39632c958e46cb208",
       "version_major": 2,
       "version_minor": 0
      },
      "text/plain": [
       "special_tokens_map.json:   0%|          | 0.00/112 [00:00<?, ?B/s]"
      ]
     },
     "metadata": {},
     "output_type": "display_data"
    },
    {
     "data": {
      "application/vnd.jupyter.widget-view+json": {
       "model_id": "7e0a2a3974584bdfa3a810072ef2abb4",
       "version_major": 2,
       "version_minor": 0
      },
      "text/plain": [
       "config.json:   0%|          | 0.00/826 [00:00<?, ?B/s]"
      ]
     },
     "metadata": {},
     "output_type": "display_data"
    },
    {
     "data": {
      "application/vnd.jupyter.widget-view+json": {
       "model_id": "c866a01f903e41f3a7403bc0ee1fedde",
       "version_major": 2,
       "version_minor": 0
      },
      "text/plain": [
       "pytorch_model.bin:   0%|          | 0.00/438M [00:00<?, ?B/s]"
      ]
     },
     "metadata": {},
     "output_type": "display_data"
    }
   ],
   "source": [
    "# Configurations\n",
    "MODEL_NAME = \"fabriceyhc/bert-base-uncased-imdb\"  # Change as needed\n",
    "BATCH_SIZE = 32\n",
    "DEVICE = \"cuda\" if torch.cuda.is_available() else \"cpu\"\n",
    "\n",
    "# Load Model & Tokenizer\n",
    "tokenizer = AutoTokenizer.from_pretrained(MODEL_NAME, cache_dir = '/Data')\n",
    "model = AutoModelForSequenceClassification.from_pretrained(MODEL_NAME, output_attentions=True, cache_dir = '/Data').to(DEVICE)"
   ]
  },
  {
   "cell_type": "code",
   "execution_count": 31,
   "metadata": {},
   "outputs": [],
   "source": [
    "dataset = load_dataset(\"imdb\", cache_dir='/Data', split = 'train')\\\n",
    "    .train_test_split(test_size=2000, train_size=10000, seed = 1)\n",
    "\n",
    "train_texts, train_labels = dataset[\"train\"][\"text\"], dataset[\"train\"][\"label\"]  # Sample subset\n",
    "test_texts, test_labels = dataset[\"test\"][\"text\"], dataset[\"test\"][\"label\"]  # Sample subset\n",
    "\n",
    "# Tokenization\n",
    "train_encodings = tokenizer(train_texts, truncation=True, padding='max_length', max_length=256, return_tensors=\"pt\")\n",
    "test_encodings = tokenizer(test_texts, truncation=True, padding='max_length', max_length=256, return_tensors=\"pt\")"
   ]
  },
  {
   "cell_type": "code",
   "execution_count": 32,
   "metadata": {},
   "outputs": [],
   "source": [
    "\n",
    "# Sample Dataset (Binary Sentiment Classification)\n",
    "\n",
    "\n",
    "# Create Torch Dataset\n",
    "class TextDataset(Dataset):\n",
    "    def __init__(self, encodings, labels):\n",
    "        self.encodings = encodings\n",
    "        self.labels = labels\n",
    "\n",
    "    def __len__(self):\n",
    "        return len(self.labels)\n",
    "\n",
    "    def __getitem__(self, idx):\n",
    "        return {key: val[idx] for key, val in self.encodings.items()}, torch.tensor(self.labels[idx])\n",
    "\n",
    "train_dataset = TextDataset(train_encodings, train_labels)\n",
    "test_dataset = TextDataset(test_encodings, test_labels)\n",
    "\n",
    "# Data Loaders\n",
    "train_loader = DataLoader(train_dataset, batch_size=BATCH_SIZE, shuffle=True)\n",
    "test_loader = DataLoader(test_dataset, batch_size=BATCH_SIZE, shuffle=False)"
   ]
  },
  {
   "cell_type": "code",
   "execution_count": 33,
   "metadata": {},
   "outputs": [],
   "source": [
    "def extract_attention_features(model, dataloader):\n",
    "    \"\"\"Extracts attention features where each token's attention score is with respect to [CLS].\"\"\"\n",
    "    model.eval()\n",
    "    attention_data = {layer: [] for layer in range(model.config.num_hidden_layers)}\n",
    "    labels = []\n",
    "\n",
    "    with torch.no_grad():\n",
    "        for batch in tqdm(dataloader):\n",
    "            inputs, batch_labels = batch\n",
    "            inputs = {key: val.to(DEVICE) for key, val in inputs.items()}\n",
    "            labels.extend(batch_labels.numpy())\n",
    "\n",
    "            outputs = model(**inputs)\n",
    "            attentions = outputs.attentions  # Shape: (num_layers, batch_size, num_heads, seq_len, seq_len)\n",
    "\n",
    "            for layer_idx, layer_attention in enumerate(attentions):\n",
    "                batch_size, num_heads, seq_len, _ = layer_attention.shape\n",
    "                cls_attention = layer_attention[:, :, 0, :]  # Extract attention from [CLS] to all tokens\n",
    "                cls_attention = cls_attention.cpu().numpy().reshape(batch_size, num_heads, -1)  # Flatten seq_len\n",
    "                attention_data[layer_idx].extend(cls_attention)  # Collect attention per head\n",
    "\n",
    "    return attention_data, np.array(labels)"
   ]
  },
  {
   "cell_type": "code",
   "execution_count": 34,
   "metadata": {},
   "outputs": [
    {
     "name": "stderr",
     "output_type": "stream",
     "text": [
      "  0%|          | 0/313 [00:00<?, ?it/s]BertSdpaSelfAttention is used but `torch.nn.functional.scaled_dot_product_attention` does not support non-absolute `position_embedding_type` or `output_attentions=True` or `head_mask`. Falling back to the manual attention implementation, but specifying the manual implementation will be required from Transformers version v5.0.0 onwards. This warning can be removed using the argument `attn_implementation=\"eager\"` when loading the model.\n",
      "100%|██████████| 313/313 [00:43<00:00,  7.13it/s]\n",
      "100%|██████████| 63/63 [00:08<00:00,  7.04it/s]\n"
     ]
    }
   ],
   "source": [
    "# Extract features\n",
    "train_features, train_labels = extract_attention_features(model, train_loader)\n",
    "test_features, test_labels = extract_attention_features(model, test_loader)"
   ]
  },
  {
   "cell_type": "code",
   "execution_count": 40,
   "metadata": {},
   "outputs": [],
   "source": [
    "results = []\n",
    "NUM_PCA_COMPONENTS = 10\n",
    "\n",
    "for layer in range(model.config.num_hidden_layers):\n",
    "    train_X = np.array(train_features[layer])  # Shape: (num_samples, num_heads, seq_len)\n",
    "    test_X = np.array(test_features[layer])\n",
    "\n",
    "    num_heads = train_X.shape[1]\n",
    "    for head in range(num_heads):\n",
    "        # Apply PCA\n",
    "        pca = PCA(n_components=NUM_PCA_COMPONENTS)\n",
    "        train_X_reduced = pca.fit_transform(train_X[:, head, :])  # Reduce dimension\n",
    "        test_X_reduced = pca.transform(test_X[:, head, :])\n",
    "\n",
    "        # Train Logistic Regression\n",
    "        clf = LogisticRegression(max_iter=200)\n",
    "        clf.fit(train_X_reduced, train_labels)\n",
    "        \n",
    "        # Evaluate\n",
    "        predictions = clf.predict(test_X_reduced)\n",
    "        acc = accuracy_score(test_labels, predictions)\n",
    "\n",
    "        results.append({\n",
    "            'layer':layer, \n",
    "            'head':head, \n",
    "            'acc':acc\n",
    "        })\n"
   ]
  },
  {
   "cell_type": "code",
   "execution_count": 41,
   "metadata": {},
   "outputs": [],
   "source": [
    "probing_matrix = pd.DataFrame(results)\\\n",
    "    .pivot(index = 'layer', columns='head')\n"
   ]
  },
  {
   "cell_type": "code",
   "execution_count": 42,
   "metadata": {},
   "outputs": [],
   "source": [
    "probing_matrix_sorted = pd.DataFrame(np.sort(probing_matrix.values, axis=1, )[:, ::-1], index=probing_matrix.index, columns=probing_matrix.columns)\\\n",
    "    .droplevel(0, axis = 1)"
   ]
  },
  {
   "cell_type": "code",
   "execution_count": 43,
   "metadata": {},
   "outputs": [
    {
     "data": {
      "text/plain": [
       "layer\n",
       "0     6.3165\n",
       "1     6.8155\n",
       "2     7.9255\n",
       "3     7.0710\n",
       "4     6.2050\n",
       "5     6.1050\n",
       "6     6.2175\n",
       "7     6.0600\n",
       "8     6.4150\n",
       "9     6.9270\n",
       "10    7.0585\n",
       "11    6.5820\n",
       "dtype: float64"
      ]
     },
     "execution_count": 43,
     "metadata": {},
     "output_type": "execute_result"
    }
   ],
   "source": [
    "probing_matrix_sorted.sum(axis = 1)"
   ]
  },
  {
   "cell_type": "code",
   "execution_count": 44,
   "metadata": {},
   "outputs": [
    {
     "data": {
      "text/plain": [
       "Text(0.5, 1.0, 'Linear probing: IMDB dataset')"
      ]
     },
     "execution_count": 44,
     "metadata": {},
     "output_type": "execute_result"
    },
    {
     "data": {
      "image/png": "[encoded data removed]",
      "text/plain": [
       "<Figure size 800x500 with 2 Axes>"
      ]
     },
     "metadata": {},
     "output_type": "display_data"
    }
   ],
   "source": [
    "plt.figure(figsize=(8,5))\n",
    "sns.heatmap(probing_matrix_sorted, cmap='mako')\n",
    "plt.xlabel(\"Head\", fontsize = 18)\n",
    "plt.ylabel(\"Layer\", fontsize = 18)\n",
    "plt.title(\"Linear probing: IMDB dataset\", fontsize = 18)"
   ]
  },
  {
   "cell_type": "markdown",
   "metadata": {},
   "source": [
    "# SST2"
   ]
  },
  {
   "cell_type": "code",
   "execution_count": 2,
   "metadata": {},
   "outputs": [
    {
     "data": {
      "application/vnd.jupyter.widget-view+json": {
       "model_id": "bd6a7f4b4eff42aa9f1686f87f3c05bb",
       "version_major": 2,
       "version_minor": 0
      },
      "text/plain": [
       "tokenizer_config.json:   0%|          | 0.00/439 [00:00<?, ?B/s]"
      ]
     },
     "metadata": {},
     "output_type": "display_data"
    },
    {
     "data": {
      "application/vnd.jupyter.widget-view+json": {
       "model_id": "79e439142c7548219136570ca3f9b120",
       "version_major": 2,
       "version_minor": 0
      },
      "text/plain": [
       "vocab.json:   0%|          | 0.00/798k [00:00<?, ?B/s]"
      ]
     },
     "metadata": {},
     "output_type": "display_data"
    },
    {
     "data": {
      "application/vnd.jupyter.widget-view+json": {
       "model_id": "c0de97a040264833b1928a0703699fcd",
       "version_major": 2,
       "version_minor": 0
      },
      "text/plain": [
       "merges.txt:   0%|          | 0.00/456k [00:00<?, ?B/s]"
      ]
     },
     "metadata": {},
     "output_type": "display_data"
    },
    {
     "data": {
      "application/vnd.jupyter.widget-view+json": {
       "model_id": "cef9f1cdba464bb38173bf3ecec3918e",
       "version_major": 2,
       "version_minor": 0
      },
      "text/plain": [
       "tokenizer.json:   0%|          | 0.00/1.36M [00:00<?, ?B/s]"
      ]
     },
     "metadata": {},
     "output_type": "display_data"
    },
    {
     "data": {
      "application/vnd.jupyter.widget-view+json": {
       "model_id": "17a9d95f8bd441a297a4ce376f8e57d9",
       "version_major": 2,
       "version_minor": 0
      },
      "text/plain": [
       "special_tokens_map.json:   0%|          | 0.00/239 [00:00<?, ?B/s]"
      ]
     },
     "metadata": {},
     "output_type": "display_data"
    },
    {
     "data": {
      "application/vnd.jupyter.widget-view+json": {
       "model_id": "52fa5b173f644fbb8a360499296ff32b",
       "version_major": 2,
       "version_minor": 0
      },
      "text/plain": [
       "config.json:   0%|          | 0.00/847 [00:00<?, ?B/s]"
      ]
     },
     "metadata": {},
     "output_type": "display_data"
    },
    {
     "data": {
      "application/vnd.jupyter.widget-view+json": {
       "model_id": "3ff841546fd240be81fda84b1af1cc2b",
       "version_major": 2,
       "version_minor": 0
      },
      "text/plain": [
       "pytorch_model.bin:   0%|          | 0.00/499M [00:00<?, ?B/s]"
      ]
     },
     "metadata": {},
     "output_type": "display_data"
    }
   ],
   "source": [
    "# Configurations\n",
    "MODEL_NAME = \"Bhumika/roberta-base-finetuned-sst2\"  # Change as needed\n",
    "BATCH_SIZE = 32\n",
    "DEVICE = \"cuda\" if torch.cuda.is_available() else \"cpu\"\n",
    "\n",
    "# Load Model & Tokenizer\n",
    "tokenizer = AutoTokenizer.from_pretrained(MODEL_NAME, cache_dir = '/Data')\n",
    "model = AutoModelForSequenceClassification.from_pretrained(MODEL_NAME, output_attentions=True, cache_dir = '/Data').to(DEVICE)"
   ]
  },
  {
   "cell_type": "code",
   "execution_count": 49,
   "metadata": {},
   "outputs": [],
   "source": [
    "dataset = load_dataset(\"stanfordnlp/sst2\", cache_dir='/Data', split = 'train')\\\n",
    "    .train_test_split(test_size=2000, train_size=10000, seed = 1)\n",
    "\n",
    "train_texts, train_labels = dataset[\"train\"][\"sentence\"], dataset[\"train\"][\"label\"]  # Sample subset\n",
    "test_texts, test_labels = dataset[\"test\"][\"sentence\"], dataset[\"test\"][\"label\"]  # Sample subset\n",
    "\n",
    "# Tokenization\n",
    "train_encodings = tokenizer(train_texts, truncation=True, padding='max_length', max_length=512, return_tensors=\"pt\")\n",
    "test_encodings = tokenizer(test_texts, truncation=True, padding='max_length', max_length=512, return_tensors=\"pt\")"
   ]
  },
  {
   "cell_type": "code",
   "execution_count": 50,
   "metadata": {},
   "outputs": [],
   "source": [
    "\n",
    "\n",
    "\n",
    "# Create Torch Dataset\n",
    "class TextDataset(Dataset):\n",
    "    def __init__(self, encodings, labels):\n",
    "        self.encodings = encodings\n",
    "        self.labels = labels\n",
    "\n",
    "    def __len__(self):\n",
    "        return len(self.labels)\n",
    "\n",
    "    def __getitem__(self, idx):\n",
    "        return {key: val[idx] for key, val in self.encodings.items()}, torch.tensor(self.labels[idx])\n",
    "\n",
    "train_dataset = TextDataset(train_encodings, train_labels)\n",
    "test_dataset = TextDataset(test_encodings, test_labels)\n",
    "\n",
    "# Data Loaders\n",
    "train_loader = DataLoader(train_dataset, batch_size=BATCH_SIZE, shuffle=True)\n",
    "test_loader = DataLoader(test_dataset, batch_size=BATCH_SIZE, shuffle=False)"
   ]
  },
  {
   "cell_type": "code",
   "execution_count": 51,
   "metadata": {},
   "outputs": [],
   "source": [
    "def extract_attention_features(model, dataloader):\n",
    "    \"\"\"Extracts attention features where each token's attention score is with respect to [CLS].\"\"\"\n",
    "    model.eval()\n",
    "    attention_data = {layer: [] for layer in range(model.config.num_hidden_layers)}\n",
    "    labels = []\n",
    "\n",
    "    with torch.no_grad():\n",
    "        for batch in tqdm(dataloader):\n",
    "            inputs, batch_labels = batch\n",
    "            inputs = {key: val.to(DEVICE) for key, val in inputs.items()}\n",
    "            labels.extend(batch_labels.numpy())\n",
    "\n",
    "            outputs = model(**inputs)\n",
    "            attentions = outputs.attentions  # Shape: (num_layers, batch_size, num_heads, seq_len, seq_len)\n",
    "\n",
    "            for layer_idx, layer_attention in enumerate(attentions):\n",
    "                batch_size, num_heads, seq_len, _ = layer_attention.shape\n",
    "                cls_attention = layer_attention[:, :, 0, :]  # Extract attention from [CLS] to all tokens\n",
    "                cls_attention = cls_attention.cpu().numpy().reshape(batch_size, num_heads, -1)  # Flatten seq_len\n",
    "                attention_data[layer_idx].extend(cls_attention)  # Collect attention per head\n",
    "\n",
    "    return attention_data, np.array(labels)"
   ]
  },
  {
   "cell_type": "code",
   "execution_count": 52,
   "metadata": {},
   "outputs": [
    {
     "name": "stderr",
     "output_type": "stream",
     "text": [
      "100%|██████████| 313/313 [01:39<00:00,  3.16it/s]\n",
      "100%|██████████| 63/63 [00:20<00:00,  3.13it/s]\n"
     ]
    }
   ],
   "source": [
    "# Extract features\n",
    "train_features, train_labels = extract_attention_features(model, train_loader)\n",
    "test_features, test_labels = extract_attention_features(model, test_loader)"
   ]
  },
  {
   "cell_type": "code",
   "execution_count": 58,
   "metadata": {},
   "outputs": [],
   "source": [
    "results = []\n",
    "NUM_PCA_COMPONENTS = 10\n",
    "\n",
    "for layer in range(model.config.num_hidden_layers):\n",
    "    train_X = np.array(train_features[layer])  # Shape: (num_samples, num_heads, seq_len)\n",
    "    test_X = np.array(test_features[layer])\n",
    "\n",
    "    num_heads = train_X.shape[1]\n",
    "    for head in range(num_heads):\n",
    "        # Apply PCA\n",
    "        pca = PCA(n_components=NUM_PCA_COMPONENTS)\n",
    "        train_X_reduced = pca.fit_transform(train_X[:, head, :])  # Reduce dimension\n",
    "        test_X_reduced = pca.transform(test_X[:, head, :])\n",
    "\n",
    "        # Train Logistic Regression\n",
    "        clf = LogisticRegression(max_iter=200)\n",
    "        clf.fit(train_X_reduced, train_labels)\n",
    "        \n",
    "        # Evaluate\n",
    "        predictions = clf.predict(test_X_reduced)\n",
    "        acc = accuracy_score(test_labels, predictions)\n",
    "\n",
    "        results.append({\n",
    "            'layer':layer, \n",
    "            'head':head, \n",
    "            'acc':acc\n",
    "        })\n"
   ]
  },
  {
   "cell_type": "code",
   "execution_count": 59,
   "metadata": {},
   "outputs": [],
   "source": [
    "probing_matrix = pd.DataFrame(results)\\\n",
    "    .pivot(index = 'layer', columns='head')\n"
   ]
  },
  {
   "cell_type": "code",
   "execution_count": 60,
   "metadata": {},
   "outputs": [],
   "source": [
    "probing_matrix_sorted = pd.DataFrame(np.sort(probing_matrix.values, axis=1, )[:, ::-1], index=probing_matrix.index, columns=probing_matrix.columns)\\\n",
    "    .droplevel(0, axis = 1)"
   ]
  },
  {
   "cell_type": "code",
   "execution_count": 61,
   "metadata": {},
   "outputs": [
    {
     "data": {
      "text/plain": [
       "layer\n",
       "0     6.7105\n",
       "1     6.8400\n",
       "2     6.8765\n",
       "3     6.8620\n",
       "4     6.7990\n",
       "5     6.8630\n",
       "6     6.9055\n",
       "7     6.8365\n",
       "8     6.9460\n",
       "9     7.0345\n",
       "10    6.8000\n",
       "11    7.0235\n",
       "dtype: float64"
      ]
     },
     "execution_count": 61,
     "metadata": {},
     "output_type": "execute_result"
    }
   ],
   "source": [
    "probing_matrix_sorted.sum(axis = 1)"
   ]
  },
  {
   "cell_type": "code",
   "execution_count": 62,
   "metadata": {},
   "outputs": [
    {
     "data": {
      "text/plain": [
       "Text(0.5, 1.0, 'Linear probing: SST2 dataset')"
      ]
     },
     "execution_count": 62,
     "metadata": {},
     "output_type": "execute_result"
    },
    {
     "data": {
      "image/png": "[encoded data removed]",
      "text/plain": [
       "<Figure size 800x500 with 2 Axes>"
      ]
     },
     "metadata": {},
     "output_type": "display_data"
    }
   ],
   "source": [
    "plt.figure(figsize=(8,5))\n",
    "sns.heatmap(probing_matrix_sorted, cmap='mako')\n",
    "plt.xlabel(\"Head\", fontsize = 18)\n",
    "plt.ylabel(\"Layer\", fontsize = 18)\n",
    "plt.title(\"Linear probing: SST2 dataset\", fontsize = 18)"
   ]
  },
  {
   "cell_type": "code",
   "execution_count": null,
   "metadata": {},
   "outputs": [],
   "source": []
  }
 ],
 "metadata": {
  "kernelspec": {
   "display_name": "base",
   "language": "python",
   "name": "python3"
  },
  "language_info": {
   "codemirror_mode": {
    "name": "ipython",
    "version": 3
   },
   "file_extension": ".py",
   "mimetype": "text/x-python",
   "name": "python",
   "nbconvert_exporter": "python",
   "pygments_lexer": "ipython3",
   "version": "3.11.3"
  }
 },
 "nbformat": 4,
 "nbformat_minor": 2
}
